{
 "cells": [
  {
   "cell_type": "code",
   "execution_count": 1,
   "id": "31388bf2",
   "metadata": {},
   "outputs": [],
   "source": [
    "#Adding all the required libraries\n",
    "\n",
    "import pandas as pd\n",
    "import numpy as np\n",
    "import matplotlib.pyplot as plt\n",
    "%matplotlib inline\n",
    "import seaborn as sns\n",
    "\n",
    "\n",
    "#Models from scikit-learn\n",
    "\n",
    "from sklearn.linear_model import LogisticRegression\n",
    "from sklearn.neighbors import KNeighborsClassifier\n",
    "from sklearn.ensemble import RandomForestClassifier\n",
    "from sklearn.naive_bayes import GaussianNB\n",
    "from sklearn.tree import DecisionTreeClassifier\n",
    "\n",
    "#Model evaluations\n",
    "from sklearn.model_selection import train_test_split, cross_val_score\n",
    "from sklearn.metrics import precision_score, recall_score, f1_score"
   ]
  },
  {
   "cell_type": "code",
   "execution_count": 2,
   "id": "aef7dc45",
   "metadata": {},
   "outputs": [
    {
     "data": {
      "text/html": [
       "<div>\n",
       "<style scoped>\n",
       "    .dataframe tbody tr th:only-of-type {\n",
       "        vertical-align: middle;\n",
       "    }\n",
       "\n",
       "    .dataframe tbody tr th {\n",
       "        vertical-align: top;\n",
       "    }\n",
       "\n",
       "    .dataframe thead th {\n",
       "        text-align: right;\n",
       "    }\n",
       "</style>\n",
       "<table border=\"1\" class=\"dataframe\">\n",
       "  <thead>\n",
       "    <tr style=\"text-align: right;\">\n",
       "      <th></th>\n",
       "      <th>Unnamed: 0</th>\n",
       "      <th>LST</th>\n",
       "      <th>Unnamed: 0.1</th>\n",
       "      <th>X_Coor</th>\n",
       "      <th>Y_Coor</th>\n",
       "      <th>band1</th>\n",
       "      <th>band2</th>\n",
       "      <th>band3</th>\n",
       "      <th>band4</th>\n",
       "      <th>band5</th>\n",
       "      <th>...</th>\n",
       "      <th>band9</th>\n",
       "      <th>band10</th>\n",
       "      <th>POINTID</th>\n",
       "      <th>nbr</th>\n",
       "      <th>ndbi</th>\n",
       "      <th>ndmi</th>\n",
       "      <th>ndsi</th>\n",
       "      <th>ndvi</th>\n",
       "      <th>ndwi</th>\n",
       "      <th>label</th>\n",
       "    </tr>\n",
       "  </thead>\n",
       "  <tbody>\n",
       "    <tr>\n",
       "      <th>0</th>\n",
       "      <td>0</td>\n",
       "      <td>23.794017</td>\n",
       "      <td>0</td>\n",
       "      <td>629719.8862</td>\n",
       "      <td>3959150.278</td>\n",
       "      <td>1449</td>\n",
       "      <td>1556</td>\n",
       "      <td>1750</td>\n",
       "      <td>1784</td>\n",
       "      <td>1851</td>\n",
       "      <td>...</td>\n",
       "      <td>2704</td>\n",
       "      <td>2719</td>\n",
       "      <td>1</td>\n",
       "      <td>-1</td>\n",
       "      <td>-1</td>\n",
       "      <td>-1</td>\n",
       "      <td>-1</td>\n",
       "      <td>-1</td>\n",
       "      <td>-1</td>\n",
       "      <td>0</td>\n",
       "    </tr>\n",
       "    <tr>\n",
       "      <th>1</th>\n",
       "      <td>1</td>\n",
       "      <td>23.794017</td>\n",
       "      <td>1</td>\n",
       "      <td>629679.8862</td>\n",
       "      <td>3959140.278</td>\n",
       "      <td>1269</td>\n",
       "      <td>1445</td>\n",
       "      <td>1598</td>\n",
       "      <td>1585</td>\n",
       "      <td>1718</td>\n",
       "      <td>...</td>\n",
       "      <td>2592</td>\n",
       "      <td>2311</td>\n",
       "      <td>2</td>\n",
       "      <td>-1</td>\n",
       "      <td>-1</td>\n",
       "      <td>-1</td>\n",
       "      <td>-1</td>\n",
       "      <td>-1</td>\n",
       "      <td>-1</td>\n",
       "      <td>0</td>\n",
       "    </tr>\n",
       "    <tr>\n",
       "      <th>2</th>\n",
       "      <td>2</td>\n",
       "      <td>21.481792</td>\n",
       "      <td>2</td>\n",
       "      <td>629689.8862</td>\n",
       "      <td>3959140.278</td>\n",
       "      <td>1286</td>\n",
       "      <td>1447</td>\n",
       "      <td>1562</td>\n",
       "      <td>1670</td>\n",
       "      <td>1794</td>\n",
       "      <td>...</td>\n",
       "      <td>2672</td>\n",
       "      <td>2427</td>\n",
       "      <td>3</td>\n",
       "      <td>-1</td>\n",
       "      <td>-1</td>\n",
       "      <td>-1</td>\n",
       "      <td>-1</td>\n",
       "      <td>-1</td>\n",
       "      <td>-1</td>\n",
       "      <td>0</td>\n",
       "    </tr>\n",
       "    <tr>\n",
       "      <th>3</th>\n",
       "      <td>3</td>\n",
       "      <td>21.481792</td>\n",
       "      <td>3</td>\n",
       "      <td>629699.8862</td>\n",
       "      <td>3959140.278</td>\n",
       "      <td>1310</td>\n",
       "      <td>1445</td>\n",
       "      <td>1601</td>\n",
       "      <td>1734</td>\n",
       "      <td>1839</td>\n",
       "      <td>...</td>\n",
       "      <td>2719</td>\n",
       "      <td>2549</td>\n",
       "      <td>4</td>\n",
       "      <td>-1</td>\n",
       "      <td>-1</td>\n",
       "      <td>-1</td>\n",
       "      <td>-1</td>\n",
       "      <td>-1</td>\n",
       "      <td>-1</td>\n",
       "      <td>0</td>\n",
       "    </tr>\n",
       "    <tr>\n",
       "      <th>4</th>\n",
       "      <td>4</td>\n",
       "      <td>21.481792</td>\n",
       "      <td>4</td>\n",
       "      <td>629709.8862</td>\n",
       "      <td>3959140.278</td>\n",
       "      <td>1365</td>\n",
       "      <td>1507</td>\n",
       "      <td>1703</td>\n",
       "      <td>1779</td>\n",
       "      <td>1854</td>\n",
       "      <td>...</td>\n",
       "      <td>2733</td>\n",
       "      <td>2674</td>\n",
       "      <td>5</td>\n",
       "      <td>-1</td>\n",
       "      <td>-1</td>\n",
       "      <td>-1</td>\n",
       "      <td>-1</td>\n",
       "      <td>-1</td>\n",
       "      <td>-1</td>\n",
       "      <td>0</td>\n",
       "    </tr>\n",
       "    <tr>\n",
       "      <th>...</th>\n",
       "      <td>...</td>\n",
       "      <td>...</td>\n",
       "      <td>...</td>\n",
       "      <td>...</td>\n",
       "      <td>...</td>\n",
       "      <td>...</td>\n",
       "      <td>...</td>\n",
       "      <td>...</td>\n",
       "      <td>...</td>\n",
       "      <td>...</td>\n",
       "      <td>...</td>\n",
       "      <td>...</td>\n",
       "      <td>...</td>\n",
       "      <td>...</td>\n",
       "      <td>...</td>\n",
       "      <td>...</td>\n",
       "      <td>...</td>\n",
       "      <td>...</td>\n",
       "      <td>...</td>\n",
       "      <td>...</td>\n",
       "      <td>...</td>\n",
       "    </tr>\n",
       "    <tr>\n",
       "      <th>1048570</th>\n",
       "      <td>1048570</td>\n",
       "      <td>-14.955011</td>\n",
       "      <td>48571</td>\n",
       "      <td>622553.1266</td>\n",
       "      <td>3956865.173</td>\n",
       "      <td>1278</td>\n",
       "      <td>1278</td>\n",
       "      <td>1292</td>\n",
       "      <td>1210</td>\n",
       "      <td>1227</td>\n",
       "      <td>...</td>\n",
       "      <td>1114</td>\n",
       "      <td>955</td>\n",
       "      <td>48572</td>\n",
       "      <td>-1</td>\n",
       "      <td>-1</td>\n",
       "      <td>-1</td>\n",
       "      <td>-1</td>\n",
       "      <td>-1</td>\n",
       "      <td>-1</td>\n",
       "      <td>1</td>\n",
       "    </tr>\n",
       "    <tr>\n",
       "      <th>1048571</th>\n",
       "      <td>1048571</td>\n",
       "      <td>-11.789091</td>\n",
       "      <td>48572</td>\n",
       "      <td>622563.1266</td>\n",
       "      <td>3956865.173</td>\n",
       "      <td>1251</td>\n",
       "      <td>1206</td>\n",
       "      <td>1221</td>\n",
       "      <td>1187</td>\n",
       "      <td>1188</td>\n",
       "      <td>...</td>\n",
       "      <td>1095</td>\n",
       "      <td>940</td>\n",
       "      <td>48573</td>\n",
       "      <td>-1</td>\n",
       "      <td>-1</td>\n",
       "      <td>-1</td>\n",
       "      <td>-1</td>\n",
       "      <td>-1</td>\n",
       "      <td>-1</td>\n",
       "      <td>1</td>\n",
       "    </tr>\n",
       "    <tr>\n",
       "      <th>1048572</th>\n",
       "      <td>1048572</td>\n",
       "      <td>-11.789091</td>\n",
       "      <td>48573</td>\n",
       "      <td>622573.1266</td>\n",
       "      <td>3956865.173</td>\n",
       "      <td>1190</td>\n",
       "      <td>1174</td>\n",
       "      <td>1141</td>\n",
       "      <td>1175</td>\n",
       "      <td>1165</td>\n",
       "      <td>...</td>\n",
       "      <td>1095</td>\n",
       "      <td>948</td>\n",
       "      <td>48574</td>\n",
       "      <td>-1</td>\n",
       "      <td>-1</td>\n",
       "      <td>-1</td>\n",
       "      <td>-1</td>\n",
       "      <td>-1</td>\n",
       "      <td>-1</td>\n",
       "      <td>1</td>\n",
       "    </tr>\n",
       "    <tr>\n",
       "      <th>1048573</th>\n",
       "      <td>1048573</td>\n",
       "      <td>-11.789091</td>\n",
       "      <td>48574</td>\n",
       "      <td>622583.1266</td>\n",
       "      <td>3956865.173</td>\n",
       "      <td>1225</td>\n",
       "      <td>1173</td>\n",
       "      <td>1216</td>\n",
       "      <td>1172</td>\n",
       "      <td>1159</td>\n",
       "      <td>...</td>\n",
       "      <td>1113</td>\n",
       "      <td>978</td>\n",
       "      <td>48575</td>\n",
       "      <td>-1</td>\n",
       "      <td>-1</td>\n",
       "      <td>-1</td>\n",
       "      <td>-1</td>\n",
       "      <td>-1</td>\n",
       "      <td>-1</td>\n",
       "      <td>1</td>\n",
       "    </tr>\n",
       "    <tr>\n",
       "      <th>1048574</th>\n",
       "      <td>1048574</td>\n",
       "      <td>-11.789091</td>\n",
       "      <td>48575</td>\n",
       "      <td>622593.1266</td>\n",
       "      <td>3956865.173</td>\n",
       "      <td>1269</td>\n",
       "      <td>1210</td>\n",
       "      <td>1252</td>\n",
       "      <td>1204</td>\n",
       "      <td>1194</td>\n",
       "      <td>...</td>\n",
       "      <td>1180</td>\n",
       "      <td>1069</td>\n",
       "      <td>48576</td>\n",
       "      <td>-1</td>\n",
       "      <td>-1</td>\n",
       "      <td>-1</td>\n",
       "      <td>-1</td>\n",
       "      <td>-1</td>\n",
       "      <td>-1</td>\n",
       "      <td>1</td>\n",
       "    </tr>\n",
       "  </tbody>\n",
       "</table>\n",
       "<p>1048575 rows × 23 columns</p>\n",
       "</div>"
      ],
      "text/plain": [
       "         Unnamed: 0        LST  Unnamed: 0.1       X_Coor       Y_Coor  band1  \\\n",
       "0                 0  23.794017             0  629719.8862  3959150.278   1449   \n",
       "1                 1  23.794017             1  629679.8862  3959140.278   1269   \n",
       "2                 2  21.481792             2  629689.8862  3959140.278   1286   \n",
       "3                 3  21.481792             3  629699.8862  3959140.278   1310   \n",
       "4                 4  21.481792             4  629709.8862  3959140.278   1365   \n",
       "...             ...        ...           ...          ...          ...    ...   \n",
       "1048570     1048570 -14.955011         48571  622553.1266  3956865.173   1278   \n",
       "1048571     1048571 -11.789091         48572  622563.1266  3956865.173   1251   \n",
       "1048572     1048572 -11.789091         48573  622573.1266  3956865.173   1190   \n",
       "1048573     1048573 -11.789091         48574  622583.1266  3956865.173   1225   \n",
       "1048574     1048574 -11.789091         48575  622593.1266  3956865.173   1269   \n",
       "\n",
       "         band2  band3  band4  band5  ...  band9  band10  POINTID  nbr  ndbi  \\\n",
       "0         1556   1750   1784   1851  ...   2704    2719        1   -1    -1   \n",
       "1         1445   1598   1585   1718  ...   2592    2311        2   -1    -1   \n",
       "2         1447   1562   1670   1794  ...   2672    2427        3   -1    -1   \n",
       "3         1445   1601   1734   1839  ...   2719    2549        4   -1    -1   \n",
       "4         1507   1703   1779   1854  ...   2733    2674        5   -1    -1   \n",
       "...        ...    ...    ...    ...  ...    ...     ...      ...  ...   ...   \n",
       "1048570   1278   1292   1210   1227  ...   1114     955    48572   -1    -1   \n",
       "1048571   1206   1221   1187   1188  ...   1095     940    48573   -1    -1   \n",
       "1048572   1174   1141   1175   1165  ...   1095     948    48574   -1    -1   \n",
       "1048573   1173   1216   1172   1159  ...   1113     978    48575   -1    -1   \n",
       "1048574   1210   1252   1204   1194  ...   1180    1069    48576   -1    -1   \n",
       "\n",
       "         ndmi  ndsi  ndvi  ndwi  label  \n",
       "0          -1    -1    -1    -1      0  \n",
       "1          -1    -1    -1    -1      0  \n",
       "2          -1    -1    -1    -1      0  \n",
       "3          -1    -1    -1    -1      0  \n",
       "4          -1    -1    -1    -1      0  \n",
       "...       ...   ...   ...   ...    ...  \n",
       "1048570    -1    -1    -1    -1      1  \n",
       "1048571    -1    -1    -1    -1      1  \n",
       "1048572    -1    -1    -1    -1      1  \n",
       "1048573    -1    -1    -1    -1      1  \n",
       "1048574    -1    -1    -1    -1      1  \n",
       "\n",
       "[1048575 rows x 23 columns]"
      ]
     },
     "execution_count": 2,
     "metadata": {},
     "output_type": "execute_result"
    }
   ],
   "source": [
    "#Reading the data\n",
    "df = pd.read_csv(\"glacier_land_ice102.csv\")\n",
    "df\n",
    "#display rows and columns "
   ]
  },
  {
   "cell_type": "code",
   "execution_count": 3,
   "id": "6b4c7560",
   "metadata": {},
   "outputs": [
    {
     "data": {
      "text/plain": [
       "Unnamed: 0        int64\n",
       "LST             float64\n",
       "Unnamed: 0.1      int64\n",
       "X_Coor          float64\n",
       "Y_Coor          float64\n",
       "band1             int64\n",
       "band2             int64\n",
       "band3             int64\n",
       "band4             int64\n",
       "band5             int64\n",
       "band6             int64\n",
       "band7             int64\n",
       "band8             int64\n",
       "band9             int64\n",
       "band10            int64\n",
       "POINTID           int64\n",
       "nbr               int64\n",
       "ndbi              int64\n",
       "ndmi              int64\n",
       "ndsi              int64\n",
       "ndvi              int64\n",
       "ndwi              int64\n",
       "label             int64\n",
       "dtype: object"
      ]
     },
     "execution_count": 3,
     "metadata": {},
     "output_type": "execute_result"
    }
   ],
   "source": [
    "#checking the datatype of the columns\n",
    "df.dtypes"
   ]
  },
  {
   "cell_type": "code",
   "execution_count": 4,
   "id": "e06d70a9",
   "metadata": {},
   "outputs": [
    {
     "data": {
      "text/html": [
       "<div>\n",
       "<style scoped>\n",
       "    .dataframe tbody tr th:only-of-type {\n",
       "        vertical-align: middle;\n",
       "    }\n",
       "\n",
       "    .dataframe tbody tr th {\n",
       "        vertical-align: top;\n",
       "    }\n",
       "\n",
       "    .dataframe thead th {\n",
       "        text-align: right;\n",
       "    }\n",
       "</style>\n",
       "<table border=\"1\" class=\"dataframe\">\n",
       "  <thead>\n",
       "    <tr style=\"text-align: right;\">\n",
       "      <th></th>\n",
       "      <th>Unnamed: 0</th>\n",
       "      <th>LST</th>\n",
       "      <th>Unnamed: 0.1</th>\n",
       "      <th>X_Coor</th>\n",
       "      <th>Y_Coor</th>\n",
       "      <th>band1</th>\n",
       "      <th>band2</th>\n",
       "      <th>band3</th>\n",
       "      <th>band4</th>\n",
       "      <th>band5</th>\n",
       "      <th>...</th>\n",
       "      <th>band9</th>\n",
       "      <th>band10</th>\n",
       "      <th>POINTID</th>\n",
       "      <th>nbr</th>\n",
       "      <th>ndbi</th>\n",
       "      <th>ndmi</th>\n",
       "      <th>ndsi</th>\n",
       "      <th>ndvi</th>\n",
       "      <th>ndwi</th>\n",
       "      <th>label</th>\n",
       "    </tr>\n",
       "  </thead>\n",
       "  <tbody>\n",
       "    <tr>\n",
       "      <th>0</th>\n",
       "      <td>0</td>\n",
       "      <td>23.794017</td>\n",
       "      <td>0</td>\n",
       "      <td>629719.8862</td>\n",
       "      <td>3959150.278</td>\n",
       "      <td>1449</td>\n",
       "      <td>1556</td>\n",
       "      <td>1750</td>\n",
       "      <td>1784</td>\n",
       "      <td>1851</td>\n",
       "      <td>...</td>\n",
       "      <td>2704</td>\n",
       "      <td>2719</td>\n",
       "      <td>1</td>\n",
       "      <td>-1</td>\n",
       "      <td>-1</td>\n",
       "      <td>-1</td>\n",
       "      <td>-1</td>\n",
       "      <td>-1</td>\n",
       "      <td>-1</td>\n",
       "      <td>0</td>\n",
       "    </tr>\n",
       "    <tr>\n",
       "      <th>1</th>\n",
       "      <td>1</td>\n",
       "      <td>23.794017</td>\n",
       "      <td>1</td>\n",
       "      <td>629679.8862</td>\n",
       "      <td>3959140.278</td>\n",
       "      <td>1269</td>\n",
       "      <td>1445</td>\n",
       "      <td>1598</td>\n",
       "      <td>1585</td>\n",
       "      <td>1718</td>\n",
       "      <td>...</td>\n",
       "      <td>2592</td>\n",
       "      <td>2311</td>\n",
       "      <td>2</td>\n",
       "      <td>-1</td>\n",
       "      <td>-1</td>\n",
       "      <td>-1</td>\n",
       "      <td>-1</td>\n",
       "      <td>-1</td>\n",
       "      <td>-1</td>\n",
       "      <td>0</td>\n",
       "    </tr>\n",
       "    <tr>\n",
       "      <th>2</th>\n",
       "      <td>2</td>\n",
       "      <td>21.481792</td>\n",
       "      <td>2</td>\n",
       "      <td>629689.8862</td>\n",
       "      <td>3959140.278</td>\n",
       "      <td>1286</td>\n",
       "      <td>1447</td>\n",
       "      <td>1562</td>\n",
       "      <td>1670</td>\n",
       "      <td>1794</td>\n",
       "      <td>...</td>\n",
       "      <td>2672</td>\n",
       "      <td>2427</td>\n",
       "      <td>3</td>\n",
       "      <td>-1</td>\n",
       "      <td>-1</td>\n",
       "      <td>-1</td>\n",
       "      <td>-1</td>\n",
       "      <td>-1</td>\n",
       "      <td>-1</td>\n",
       "      <td>0</td>\n",
       "    </tr>\n",
       "    <tr>\n",
       "      <th>3</th>\n",
       "      <td>3</td>\n",
       "      <td>21.481792</td>\n",
       "      <td>3</td>\n",
       "      <td>629699.8862</td>\n",
       "      <td>3959140.278</td>\n",
       "      <td>1310</td>\n",
       "      <td>1445</td>\n",
       "      <td>1601</td>\n",
       "      <td>1734</td>\n",
       "      <td>1839</td>\n",
       "      <td>...</td>\n",
       "      <td>2719</td>\n",
       "      <td>2549</td>\n",
       "      <td>4</td>\n",
       "      <td>-1</td>\n",
       "      <td>-1</td>\n",
       "      <td>-1</td>\n",
       "      <td>-1</td>\n",
       "      <td>-1</td>\n",
       "      <td>-1</td>\n",
       "      <td>0</td>\n",
       "    </tr>\n",
       "    <tr>\n",
       "      <th>4</th>\n",
       "      <td>4</td>\n",
       "      <td>21.481792</td>\n",
       "      <td>4</td>\n",
       "      <td>629709.8862</td>\n",
       "      <td>3959140.278</td>\n",
       "      <td>1365</td>\n",
       "      <td>1507</td>\n",
       "      <td>1703</td>\n",
       "      <td>1779</td>\n",
       "      <td>1854</td>\n",
       "      <td>...</td>\n",
       "      <td>2733</td>\n",
       "      <td>2674</td>\n",
       "      <td>5</td>\n",
       "      <td>-1</td>\n",
       "      <td>-1</td>\n",
       "      <td>-1</td>\n",
       "      <td>-1</td>\n",
       "      <td>-1</td>\n",
       "      <td>-1</td>\n",
       "      <td>0</td>\n",
       "    </tr>\n",
       "  </tbody>\n",
       "</table>\n",
       "<p>5 rows × 23 columns</p>\n",
       "</div>"
      ],
      "text/plain": [
       "   Unnamed: 0        LST  Unnamed: 0.1       X_Coor       Y_Coor  band1  \\\n",
       "0           0  23.794017             0  629719.8862  3959150.278   1449   \n",
       "1           1  23.794017             1  629679.8862  3959140.278   1269   \n",
       "2           2  21.481792             2  629689.8862  3959140.278   1286   \n",
       "3           3  21.481792             3  629699.8862  3959140.278   1310   \n",
       "4           4  21.481792             4  629709.8862  3959140.278   1365   \n",
       "\n",
       "   band2  band3  band4  band5  ...  band9  band10  POINTID  nbr  ndbi  ndmi  \\\n",
       "0   1556   1750   1784   1851  ...   2704    2719        1   -1    -1    -1   \n",
       "1   1445   1598   1585   1718  ...   2592    2311        2   -1    -1    -1   \n",
       "2   1447   1562   1670   1794  ...   2672    2427        3   -1    -1    -1   \n",
       "3   1445   1601   1734   1839  ...   2719    2549        4   -1    -1    -1   \n",
       "4   1507   1703   1779   1854  ...   2733    2674        5   -1    -1    -1   \n",
       "\n",
       "   ndsi  ndvi  ndwi  label  \n",
       "0    -1    -1    -1      0  \n",
       "1    -1    -1    -1      0  \n",
       "2    -1    -1    -1      0  \n",
       "3    -1    -1    -1      0  \n",
       "4    -1    -1    -1      0  \n",
       "\n",
       "[5 rows x 23 columns]"
      ]
     },
     "execution_count": 4,
     "metadata": {},
     "output_type": "execute_result"
    }
   ],
   "source": [
    "df.head()"
   ]
  },
  {
   "cell_type": "code",
   "execution_count": 5,
   "id": "8bc93a43",
   "metadata": {},
   "outputs": [
    {
     "data": {
      "text/plain": [
       "0    999999\n",
       "1     48576\n",
       "Name: label, dtype: int64"
      ]
     },
     "execution_count": 5,
     "metadata": {},
     "output_type": "execute_result"
    }
   ],
   "source": [
    "# To find how many how many of each class there are\n",
    "df[\"label\"].value_counts()\n",
    "# label - is debris covered glacier or not (0 = No and 1 = Yes)"
   ]
  },
  {
   "cell_type": "code",
   "execution_count": 6,
   "id": "65ea36ee",
   "metadata": {},
   "outputs": [
    {
     "data": {
      "image/png": "[encoded data removed]",
      "text/plain": [
       "<Figure size 640x480 with 1 Axes>"
      ]
     },
     "metadata": {},
     "output_type": "display_data"
    }
   ],
   "source": [
    "df[\"label\"].value_counts().plot(kind=\"bar\", color=[\"green\",\"blue\"] );"
   ]
  },
  {
   "cell_type": "code",
   "execution_count": 7,
   "id": "759de284",
   "metadata": {},
   "outputs": [
    {
     "data": {
      "text/plain": [
       "Unnamed: 0          0\n",
       "LST             75625\n",
       "Unnamed: 0.1        0\n",
       "X_Coor              0\n",
       "Y_Coor              0\n",
       "band1               0\n",
       "band2               0\n",
       "band3               0\n",
       "band4               0\n",
       "band5               0\n",
       "band6               0\n",
       "band7               0\n",
       "band8               0\n",
       "band9               0\n",
       "band10              0\n",
       "POINTID             0\n",
       "nbr                 0\n",
       "ndbi                0\n",
       "ndmi                0\n",
       "ndsi                0\n",
       "ndvi                0\n",
       "ndwi                0\n",
       "label               0\n",
       "dtype: int64"
      ]
     },
     "execution_count": 7,
     "metadata": {},
     "output_type": "execute_result"
    }
   ],
   "source": [
    "# checking if there are any missing values\n",
    "df.isna().sum()"
   ]
  },
  {
   "cell_type": "code",
   "execution_count": 8,
   "id": "cfeadef3",
   "metadata": {},
   "outputs": [
    {
     "data": {
      "text/html": [
       "<div>\n",
       "<style scoped>\n",
       "    .dataframe tbody tr th:only-of-type {\n",
       "        vertical-align: middle;\n",
       "    }\n",
       "\n",
       "    .dataframe tbody tr th {\n",
       "        vertical-align: top;\n",
       "    }\n",
       "\n",
       "    .dataframe thead th {\n",
       "        text-align: right;\n",
       "    }\n",
       "</style>\n",
       "<table border=\"1\" class=\"dataframe\">\n",
       "  <thead>\n",
       "    <tr style=\"text-align: right;\">\n",
       "      <th></th>\n",
       "      <th>Unnamed: 0</th>\n",
       "      <th>LST</th>\n",
       "      <th>Unnamed: 0.1</th>\n",
       "      <th>X_Coor</th>\n",
       "      <th>Y_Coor</th>\n",
       "      <th>band1</th>\n",
       "      <th>band2</th>\n",
       "      <th>band3</th>\n",
       "      <th>band4</th>\n",
       "      <th>band5</th>\n",
       "      <th>...</th>\n",
       "      <th>band9</th>\n",
       "      <th>band10</th>\n",
       "      <th>POINTID</th>\n",
       "      <th>nbr</th>\n",
       "      <th>ndbi</th>\n",
       "      <th>ndmi</th>\n",
       "      <th>ndsi</th>\n",
       "      <th>ndvi</th>\n",
       "      <th>ndwi</th>\n",
       "      <th>label</th>\n",
       "    </tr>\n",
       "  </thead>\n",
       "  <tbody>\n",
       "    <tr>\n",
       "      <th>count</th>\n",
       "      <td>1.048575e+06</td>\n",
       "      <td>972950.000000</td>\n",
       "      <td>1.048575e+06</td>\n",
       "      <td>1.048575e+06</td>\n",
       "      <td>1.048575e+06</td>\n",
       "      <td>1.048575e+06</td>\n",
       "      <td>1.048575e+06</td>\n",
       "      <td>1.048575e+06</td>\n",
       "      <td>1.048575e+06</td>\n",
       "      <td>1.048575e+06</td>\n",
       "      <td>...</td>\n",
       "      <td>1.048575e+06</td>\n",
       "      <td>1.048575e+06</td>\n",
       "      <td>1.048575e+06</td>\n",
       "      <td>1048575.0</td>\n",
       "      <td>1048575.0</td>\n",
       "      <td>1048575.0</td>\n",
       "      <td>1048575.0</td>\n",
       "      <td>1048575.0</td>\n",
       "      <td>1048575.0</td>\n",
       "      <td>1.048575e+06</td>\n",
       "    </tr>\n",
       "    <tr>\n",
       "      <th>mean</th>\n",
       "      <td>5.242870e+05</td>\n",
       "      <td>3.807357</td>\n",
       "      <td>4.779613e+05</td>\n",
       "      <td>6.133406e+05</td>\n",
       "      <td>3.953281e+06</td>\n",
       "      <td>1.750751e+03</td>\n",
       "      <td>1.889716e+03</td>\n",
       "      <td>2.065344e+03</td>\n",
       "      <td>2.151630e+03</td>\n",
       "      <td>2.297370e+03</td>\n",
       "      <td>...</td>\n",
       "      <td>2.791387e+03</td>\n",
       "      <td>2.512132e+03</td>\n",
       "      <td>4.779623e+05</td>\n",
       "      <td>-1.0</td>\n",
       "      <td>-1.0</td>\n",
       "      <td>-1.0</td>\n",
       "      <td>-1.0</td>\n",
       "      <td>-1.0</td>\n",
       "      <td>-1.0</td>\n",
       "      <td>4.632573e-02</td>\n",
       "    </tr>\n",
       "    <tr>\n",
       "      <th>std</th>\n",
       "      <td>3.026977e+05</td>\n",
       "      <td>10.426686</td>\n",
       "      <td>2.991318e+05</td>\n",
       "      <td>9.122150e+03</td>\n",
       "      <td>3.470056e+03</td>\n",
       "      <td>5.514295e+02</td>\n",
       "      <td>6.405259e+02</td>\n",
       "      <td>7.623711e+02</td>\n",
       "      <td>7.290003e+02</td>\n",
       "      <td>7.306174e+02</td>\n",
       "      <td>...</td>\n",
       "      <td>1.039805e+03</td>\n",
       "      <td>1.003376e+03</td>\n",
       "      <td>2.991318e+05</td>\n",
       "      <td>0.0</td>\n",
       "      <td>0.0</td>\n",
       "      <td>0.0</td>\n",
       "      <td>0.0</td>\n",
       "      <td>0.0</td>\n",
       "      <td>0.0</td>\n",
       "      <td>2.101897e-01</td>\n",
       "    </tr>\n",
       "    <tr>\n",
       "      <th>min</th>\n",
       "      <td>0.000000e+00</td>\n",
       "      <td>-18.825913</td>\n",
       "      <td>0.000000e+00</td>\n",
       "      <td>6.007499e+05</td>\n",
       "      <td>3.946240e+06</td>\n",
       "      <td>5.860000e+02</td>\n",
       "      <td>4.570000e+02</td>\n",
       "      <td>3.620000e+02</td>\n",
       "      <td>3.360000e+02</td>\n",
       "      <td>3.350000e+02</td>\n",
       "      <td>...</td>\n",
       "      <td>1.320000e+02</td>\n",
       "      <td>1.010000e+02</td>\n",
       "      <td>1.000000e+00</td>\n",
       "      <td>-1.0</td>\n",
       "      <td>-1.0</td>\n",
       "      <td>-1.0</td>\n",
       "      <td>-1.0</td>\n",
       "      <td>-1.0</td>\n",
       "      <td>-1.0</td>\n",
       "      <td>0.000000e+00</td>\n",
       "    </tr>\n",
       "    <tr>\n",
       "      <th>25%</th>\n",
       "      <td>2.621435e+05</td>\n",
       "      <td>-2.889889</td>\n",
       "      <td>2.135675e+05</td>\n",
       "      <td>6.057999e+05</td>\n",
       "      <td>3.950430e+06</td>\n",
       "      <td>1.326000e+03</td>\n",
       "      <td>1.382000e+03</td>\n",
       "      <td>1.462000e+03</td>\n",
       "      <td>1.558000e+03</td>\n",
       "      <td>1.734000e+03</td>\n",
       "      <td>...</td>\n",
       "      <td>2.094000e+03</td>\n",
       "      <td>1.791000e+03</td>\n",
       "      <td>2.135685e+05</td>\n",
       "      <td>-1.0</td>\n",
       "      <td>-1.0</td>\n",
       "      <td>-1.0</td>\n",
       "      <td>-1.0</td>\n",
       "      <td>-1.0</td>\n",
       "      <td>-1.0</td>\n",
       "      <td>0.000000e+00</td>\n",
       "    </tr>\n",
       "    <tr>\n",
       "      <th>50%</th>\n",
       "      <td>5.242870e+05</td>\n",
       "      <td>1.685305</td>\n",
       "      <td>4.757110e+05</td>\n",
       "      <td>6.109699e+05</td>\n",
       "      <td>3.953400e+06</td>\n",
       "      <td>1.665000e+03</td>\n",
       "      <td>1.805000e+03</td>\n",
       "      <td>1.977000e+03</td>\n",
       "      <td>2.046000e+03</td>\n",
       "      <td>2.190000e+03</td>\n",
       "      <td>...</td>\n",
       "      <td>2.704000e+03</td>\n",
       "      <td>2.425000e+03</td>\n",
       "      <td>4.757120e+05</td>\n",
       "      <td>-1.0</td>\n",
       "      <td>-1.0</td>\n",
       "      <td>-1.0</td>\n",
       "      <td>-1.0</td>\n",
       "      <td>-1.0</td>\n",
       "      <td>-1.0</td>\n",
       "      <td>0.000000e+00</td>\n",
       "    </tr>\n",
       "    <tr>\n",
       "      <th>75%</th>\n",
       "      <td>7.864305e+05</td>\n",
       "      <td>9.568608</td>\n",
       "      <td>7.378545e+05</td>\n",
       "      <td>6.203999e+05</td>\n",
       "      <td>3.956920e+06</td>\n",
       "      <td>2.098000e+03</td>\n",
       "      <td>2.349000e+03</td>\n",
       "      <td>2.639000e+03</td>\n",
       "      <td>2.718000e+03</td>\n",
       "      <td>2.861000e+03</td>\n",
       "      <td>...</td>\n",
       "      <td>3.640000e+03</td>\n",
       "      <td>3.312000e+03</td>\n",
       "      <td>7.378555e+05</td>\n",
       "      <td>-1.0</td>\n",
       "      <td>-1.0</td>\n",
       "      <td>-1.0</td>\n",
       "      <td>-1.0</td>\n",
       "      <td>-1.0</td>\n",
       "      <td>-1.0</td>\n",
       "      <td>0.000000e+00</td>\n",
       "    </tr>\n",
       "    <tr>\n",
       "      <th>max</th>\n",
       "      <td>1.048574e+06</td>\n",
       "      <td>36.857147</td>\n",
       "      <td>9.999980e+05</td>\n",
       "      <td>6.345031e+05</td>\n",
       "      <td>3.959150e+06</td>\n",
       "      <td>6.894000e+03</td>\n",
       "      <td>7.052000e+03</td>\n",
       "      <td>7.460000e+03</td>\n",
       "      <td>6.505000e+03</td>\n",
       "      <td>6.326000e+03</td>\n",
       "      <td>...</td>\n",
       "      <td>6.325000e+03</td>\n",
       "      <td>6.026000e+03</td>\n",
       "      <td>9.999990e+05</td>\n",
       "      <td>-1.0</td>\n",
       "      <td>-1.0</td>\n",
       "      <td>-1.0</td>\n",
       "      <td>-1.0</td>\n",
       "      <td>-1.0</td>\n",
       "      <td>-1.0</td>\n",
       "      <td>1.000000e+00</td>\n",
       "    </tr>\n",
       "  </tbody>\n",
       "</table>\n",
       "<p>8 rows × 23 columns</p>\n",
       "</div>"
      ],
      "text/plain": [
       "         Unnamed: 0            LST  Unnamed: 0.1        X_Coor        Y_Coor  \\\n",
       "count  1.048575e+06  972950.000000  1.048575e+06  1.048575e+06  1.048575e+06   \n",
       "mean   5.242870e+05       3.807357  4.779613e+05  6.133406e+05  3.953281e+06   \n",
       "std    3.026977e+05      10.426686  2.991318e+05  9.122150e+03  3.470056e+03   \n",
       "min    0.000000e+00     -18.825913  0.000000e+00  6.007499e+05  3.946240e+06   \n",
       "25%    2.621435e+05      -2.889889  2.135675e+05  6.057999e+05  3.950430e+06   \n",
       "50%    5.242870e+05       1.685305  4.757110e+05  6.109699e+05  3.953400e+06   \n",
       "75%    7.864305e+05       9.568608  7.378545e+05  6.203999e+05  3.956920e+06   \n",
       "max    1.048574e+06      36.857147  9.999980e+05  6.345031e+05  3.959150e+06   \n",
       "\n",
       "              band1         band2         band3         band4         band5  \\\n",
       "count  1.048575e+06  1.048575e+06  1.048575e+06  1.048575e+06  1.048575e+06   \n",
       "mean   1.750751e+03  1.889716e+03  2.065344e+03  2.151630e+03  2.297370e+03   \n",
       "std    5.514295e+02  6.405259e+02  7.623711e+02  7.290003e+02  7.306174e+02   \n",
       "min    5.860000e+02  4.570000e+02  3.620000e+02  3.360000e+02  3.350000e+02   \n",
       "25%    1.326000e+03  1.382000e+03  1.462000e+03  1.558000e+03  1.734000e+03   \n",
       "50%    1.665000e+03  1.805000e+03  1.977000e+03  2.046000e+03  2.190000e+03   \n",
       "75%    2.098000e+03  2.349000e+03  2.639000e+03  2.718000e+03  2.861000e+03   \n",
       "max    6.894000e+03  7.052000e+03  7.460000e+03  6.505000e+03  6.326000e+03   \n",
       "\n",
       "       ...         band9        band10       POINTID        nbr       ndbi  \\\n",
       "count  ...  1.048575e+06  1.048575e+06  1.048575e+06  1048575.0  1048575.0   \n",
       "mean   ...  2.791387e+03  2.512132e+03  4.779623e+05       -1.0       -1.0   \n",
       "std    ...  1.039805e+03  1.003376e+03  2.991318e+05        0.0        0.0   \n",
       "min    ...  1.320000e+02  1.010000e+02  1.000000e+00       -1.0       -1.0   \n",
       "25%    ...  2.094000e+03  1.791000e+03  2.135685e+05       -1.0       -1.0   \n",
       "50%    ...  2.704000e+03  2.425000e+03  4.757120e+05       -1.0       -1.0   \n",
       "75%    ...  3.640000e+03  3.312000e+03  7.378555e+05       -1.0       -1.0   \n",
       "max    ...  6.325000e+03  6.026000e+03  9.999990e+05       -1.0       -1.0   \n",
       "\n",
       "            ndmi       ndsi       ndvi       ndwi         label  \n",
       "count  1048575.0  1048575.0  1048575.0  1048575.0  1.048575e+06  \n",
       "mean        -1.0       -1.0       -1.0       -1.0  4.632573e-02  \n",
       "std          0.0        0.0        0.0        0.0  2.101897e-01  \n",
       "min         -1.0       -1.0       -1.0       -1.0  0.000000e+00  \n",
       "25%         -1.0       -1.0       -1.0       -1.0  0.000000e+00  \n",
       "50%         -1.0       -1.0       -1.0       -1.0  0.000000e+00  \n",
       "75%         -1.0       -1.0       -1.0       -1.0  0.000000e+00  \n",
       "max         -1.0       -1.0       -1.0       -1.0  1.000000e+00  \n",
       "\n",
       "[8 rows x 23 columns]"
      ]
     },
     "execution_count": 8,
     "metadata": {},
     "output_type": "execute_result"
    }
   ],
   "source": [
    "df.describe()"
   ]
  },
  {
   "cell_type": "code",
   "execution_count": 9,
   "id": "e6125ccf",
   "metadata": {},
   "outputs": [],
   "source": [
    "df = df.drop(['Unnamed: 0','Unnamed: 0.1','POINTID','nbr','ndbi','ndmi','ndsi','ndvi','ndwi'], axis = 1)"
   ]
  },
  {
   "cell_type": "code",
   "execution_count": 10,
   "id": "d7dea202",
   "metadata": {},
   "outputs": [
    {
     "data": {
      "text/html": [
       "<div>\n",
       "<style scoped>\n",
       "    .dataframe tbody tr th:only-of-type {\n",
       "        vertical-align: middle;\n",
       "    }\n",
       "\n",
       "    .dataframe tbody tr th {\n",
       "        vertical-align: top;\n",
       "    }\n",
       "\n",
       "    .dataframe thead th {\n",
       "        text-align: right;\n",
       "    }\n",
       "</style>\n",
       "<table border=\"1\" class=\"dataframe\">\n",
       "  <thead>\n",
       "    <tr style=\"text-align: right;\">\n",
       "      <th></th>\n",
       "      <th>LST</th>\n",
       "      <th>X_Coor</th>\n",
       "      <th>Y_Coor</th>\n",
       "      <th>band1</th>\n",
       "      <th>band2</th>\n",
       "      <th>band3</th>\n",
       "      <th>band4</th>\n",
       "      <th>band5</th>\n",
       "      <th>band6</th>\n",
       "      <th>band7</th>\n",
       "      <th>band8</th>\n",
       "      <th>band9</th>\n",
       "      <th>band10</th>\n",
       "      <th>label</th>\n",
       "    </tr>\n",
       "  </thead>\n",
       "  <tbody>\n",
       "    <tr>\n",
       "      <th>0</th>\n",
       "      <td>23.794017</td>\n",
       "      <td>629719.8862</td>\n",
       "      <td>3959150.278</td>\n",
       "      <td>1449</td>\n",
       "      <td>1556</td>\n",
       "      <td>1750</td>\n",
       "      <td>1784</td>\n",
       "      <td>1851</td>\n",
       "      <td>1934</td>\n",
       "      <td>1863</td>\n",
       "      <td>1918</td>\n",
       "      <td>2704</td>\n",
       "      <td>2719</td>\n",
       "      <td>0</td>\n",
       "    </tr>\n",
       "    <tr>\n",
       "      <th>1</th>\n",
       "      <td>23.794017</td>\n",
       "      <td>629679.8862</td>\n",
       "      <td>3959140.278</td>\n",
       "      <td>1269</td>\n",
       "      <td>1445</td>\n",
       "      <td>1598</td>\n",
       "      <td>1585</td>\n",
       "      <td>1718</td>\n",
       "      <td>1788</td>\n",
       "      <td>1856</td>\n",
       "      <td>1826</td>\n",
       "      <td>2592</td>\n",
       "      <td>2311</td>\n",
       "      <td>0</td>\n",
       "    </tr>\n",
       "    <tr>\n",
       "      <th>2</th>\n",
       "      <td>21.481792</td>\n",
       "      <td>629689.8862</td>\n",
       "      <td>3959140.278</td>\n",
       "      <td>1286</td>\n",
       "      <td>1447</td>\n",
       "      <td>1562</td>\n",
       "      <td>1670</td>\n",
       "      <td>1794</td>\n",
       "      <td>1882</td>\n",
       "      <td>1865</td>\n",
       "      <td>1875</td>\n",
       "      <td>2672</td>\n",
       "      <td>2427</td>\n",
       "      <td>0</td>\n",
       "    </tr>\n",
       "    <tr>\n",
       "      <th>3</th>\n",
       "      <td>21.481792</td>\n",
       "      <td>629699.8862</td>\n",
       "      <td>3959140.278</td>\n",
       "      <td>1310</td>\n",
       "      <td>1445</td>\n",
       "      <td>1601</td>\n",
       "      <td>1734</td>\n",
       "      <td>1839</td>\n",
       "      <td>1936</td>\n",
       "      <td>1892</td>\n",
       "      <td>1907</td>\n",
       "      <td>2719</td>\n",
       "      <td>2549</td>\n",
       "      <td>0</td>\n",
       "    </tr>\n",
       "    <tr>\n",
       "      <th>4</th>\n",
       "      <td>21.481792</td>\n",
       "      <td>629709.8862</td>\n",
       "      <td>3959140.278</td>\n",
       "      <td>1365</td>\n",
       "      <td>1507</td>\n",
       "      <td>1703</td>\n",
       "      <td>1779</td>\n",
       "      <td>1854</td>\n",
       "      <td>1951</td>\n",
       "      <td>1932</td>\n",
       "      <td>1925</td>\n",
       "      <td>2733</td>\n",
       "      <td>2674</td>\n",
       "      <td>0</td>\n",
       "    </tr>\n",
       "  </tbody>\n",
       "</table>\n",
       "</div>"
      ],
      "text/plain": [
       "         LST       X_Coor       Y_Coor  band1  band2  band3  band4  band5  \\\n",
       "0  23.794017  629719.8862  3959150.278   1449   1556   1750   1784   1851   \n",
       "1  23.794017  629679.8862  3959140.278   1269   1445   1598   1585   1718   \n",
       "2  21.481792  629689.8862  3959140.278   1286   1447   1562   1670   1794   \n",
       "3  21.481792  629699.8862  3959140.278   1310   1445   1601   1734   1839   \n",
       "4  21.481792  629709.8862  3959140.278   1365   1507   1703   1779   1854   \n",
       "\n",
       "   band6  band7  band8  band9  band10  label  \n",
       "0   1934   1863   1918   2704    2719      0  \n",
       "1   1788   1856   1826   2592    2311      0  \n",
       "2   1882   1865   1875   2672    2427      0  \n",
       "3   1936   1892   1907   2719    2549      0  \n",
       "4   1951   1932   1925   2733    2674      0  "
      ]
     },
     "execution_count": 10,
     "metadata": {},
     "output_type": "execute_result"
    }
   ],
   "source": [
    "df.head()"
   ]
  },
  {
   "cell_type": "code",
   "execution_count": 11,
   "id": "0cb26128",
   "metadata": {},
   "outputs": [
    {
     "name": "stdout",
     "output_type": "stream",
     "text": [
      "LST=>75625\n"
     ]
    }
   ],
   "source": [
    "# filling the missing values with the mean of column values\n",
    "columns=df.columns\n",
    "for i in range(len(columns)):\n",
    "    if df[columns[i]].isnull().sum():\n",
    "        print(f\"{columns[i]}=>{df[columns[i]].isnull().sum()}\")\n",
    "        mean=df[columns[i]].mean()\n",
    "        df[columns[i]].replace(np.nan,mean,inplace=True)"
   ]
  },
  {
   "cell_type": "code",
   "execution_count": 12,
   "id": "d0db0c4a",
   "metadata": {},
   "outputs": [
    {
     "data": {
      "text/plain": [
       "LST       0\n",
       "X_Coor    0\n",
       "Y_Coor    0\n",
       "band1     0\n",
       "band2     0\n",
       "band3     0\n",
       "band4     0\n",
       "band5     0\n",
       "band6     0\n",
       "band7     0\n",
       "band8     0\n",
       "band9     0\n",
       "band10    0\n",
       "label     0\n",
       "dtype: int64"
      ]
     },
     "execution_count": 12,
     "metadata": {},
     "output_type": "execute_result"
    }
   ],
   "source": [
    "# again checking if there are any missing values after filling missing values\n",
    "df.isna().sum()"
   ]
  },
  {
   "cell_type": "code",
   "execution_count": 13,
   "id": "c3bf6b19",
   "metadata": {},
   "outputs": [
    {
     "data": {
      "text/html": [
       "<div>\n",
       "<style scoped>\n",
       "    .dataframe tbody tr th:only-of-type {\n",
       "        vertical-align: middle;\n",
       "    }\n",
       "\n",
       "    .dataframe tbody tr th {\n",
       "        vertical-align: top;\n",
       "    }\n",
       "\n",
       "    .dataframe thead th {\n",
       "        text-align: right;\n",
       "    }\n",
       "</style>\n",
       "<table border=\"1\" class=\"dataframe\">\n",
       "  <thead>\n",
       "    <tr style=\"text-align: right;\">\n",
       "      <th>LST</th>\n",
       "      <th>-18.825913</th>\n",
       "      <th>-18.825706</th>\n",
       "      <th>-18.725320</th>\n",
       "      <th>-18.524128</th>\n",
       "      <th>-18.423769</th>\n",
       "      <th>-18.323266</th>\n",
       "      <th>-18.122506</th>\n",
       "      <th>-18.122318</th>\n",
       "      <th>-18.122263</th>\n",
       "      <th>-18.121260</th>\n",
       "      <th>...</th>\n",
       "      <th>36.088010</th>\n",
       "      <th>36.091011</th>\n",
       "      <th>36.234854</th>\n",
       "      <th>36.281538</th>\n",
       "      <th>36.295477</th>\n",
       "      <th>36.336332</th>\n",
       "      <th>36.386296</th>\n",
       "      <th>36.441145</th>\n",
       "      <th>36.502207</th>\n",
       "      <th>36.857147</th>\n",
       "    </tr>\n",
       "    <tr>\n",
       "      <th>label</th>\n",
       "      <th></th>\n",
       "      <th></th>\n",
       "      <th></th>\n",
       "      <th></th>\n",
       "      <th></th>\n",
       "      <th></th>\n",
       "      <th></th>\n",
       "      <th></th>\n",
       "      <th></th>\n",
       "      <th></th>\n",
       "      <th></th>\n",
       "      <th></th>\n",
       "      <th></th>\n",
       "      <th></th>\n",
       "      <th></th>\n",
       "      <th></th>\n",
       "      <th></th>\n",
       "      <th></th>\n",
       "      <th></th>\n",
       "      <th></th>\n",
       "      <th></th>\n",
       "    </tr>\n",
       "  </thead>\n",
       "  <tbody>\n",
       "    <tr>\n",
       "      <th>0</th>\n",
       "      <td>9</td>\n",
       "      <td>9</td>\n",
       "      <td>15</td>\n",
       "      <td>9</td>\n",
       "      <td>9</td>\n",
       "      <td>15</td>\n",
       "      <td>9</td>\n",
       "      <td>9</td>\n",
       "      <td>10</td>\n",
       "      <td>9</td>\n",
       "      <td>...</td>\n",
       "      <td>4</td>\n",
       "      <td>6</td>\n",
       "      <td>6</td>\n",
       "      <td>5</td>\n",
       "      <td>3</td>\n",
       "      <td>2</td>\n",
       "      <td>4</td>\n",
       "      <td>4</td>\n",
       "      <td>6</td>\n",
       "      <td>4</td>\n",
       "    </tr>\n",
       "    <tr>\n",
       "      <th>1</th>\n",
       "      <td>0</td>\n",
       "      <td>0</td>\n",
       "      <td>0</td>\n",
       "      <td>0</td>\n",
       "      <td>0</td>\n",
       "      <td>0</td>\n",
       "      <td>0</td>\n",
       "      <td>0</td>\n",
       "      <td>0</td>\n",
       "      <td>0</td>\n",
       "      <td>...</td>\n",
       "      <td>0</td>\n",
       "      <td>0</td>\n",
       "      <td>0</td>\n",
       "      <td>0</td>\n",
       "      <td>0</td>\n",
       "      <td>0</td>\n",
       "      <td>0</td>\n",
       "      <td>0</td>\n",
       "      <td>0</td>\n",
       "      <td>0</td>\n",
       "    </tr>\n",
       "  </tbody>\n",
       "</table>\n",
       "<p>2 rows × 103455 columns</p>\n",
       "</div>"
      ],
      "text/plain": [
       "LST    -18.825913  -18.825706  -18.725320  -18.524128  -18.423769  -18.323266  \\\n",
       "label                                                                           \n",
       "0               9           9          15           9           9          15   \n",
       "1               0           0           0           0           0           0   \n",
       "\n",
       "LST    -18.122506  -18.122318  -18.122263  -18.121260  ...   36.088010  \\\n",
       "label                                                  ...               \n",
       "0               9           9          10           9  ...           4   \n",
       "1               0           0           0           0  ...           0   \n",
       "\n",
       "LST     36.091011   36.234854   36.281538   36.295477   36.336332   36.386296  \\\n",
       "label                                                                           \n",
       "0               6           6           5           3           2           4   \n",
       "1               0           0           0           0           0           0   \n",
       "\n",
       "LST     36.441145   36.502207   36.857147  \n",
       "label                                      \n",
       "0               4           6           4  \n",
       "1               0           0           0  \n",
       "\n",
       "[2 rows x 103455 columns]"
      ]
     },
     "execution_count": 13,
     "metadata": {},
     "output_type": "execute_result"
    }
   ],
   "source": [
    "pd.crosstab(df.label, df.LST)"
   ]
  },
  {
   "cell_type": "code",
   "execution_count": 14,
   "id": "d4f6d3f3",
   "metadata": {},
   "outputs": [
    {
     "data": {
      "text/html": [
       "<div>\n",
       "<style scoped>\n",
       "    .dataframe tbody tr th:only-of-type {\n",
       "        vertical-align: middle;\n",
       "    }\n",
       "\n",
       "    .dataframe tbody tr th {\n",
       "        vertical-align: top;\n",
       "    }\n",
       "\n",
       "    .dataframe thead th {\n",
       "        text-align: right;\n",
       "    }\n",
       "</style>\n",
       "<table border=\"1\" class=\"dataframe\">\n",
       "  <thead>\n",
       "    <tr style=\"text-align: right;\">\n",
       "      <th></th>\n",
       "      <th>LST</th>\n",
       "      <th>X_Coor</th>\n",
       "      <th>Y_Coor</th>\n",
       "      <th>band1</th>\n",
       "      <th>band2</th>\n",
       "      <th>band3</th>\n",
       "      <th>band4</th>\n",
       "      <th>band5</th>\n",
       "      <th>band6</th>\n",
       "      <th>band7</th>\n",
       "      <th>band8</th>\n",
       "      <th>band9</th>\n",
       "      <th>band10</th>\n",
       "      <th>label</th>\n",
       "    </tr>\n",
       "  </thead>\n",
       "  <tbody>\n",
       "    <tr>\n",
       "      <th>LST</th>\n",
       "      <td>1.000000</td>\n",
       "      <td>0.191780</td>\n",
       "      <td>0.379089</td>\n",
       "      <td>0.093838</td>\n",
       "      <td>0.084647</td>\n",
       "      <td>0.085909</td>\n",
       "      <td>0.082847</td>\n",
       "      <td>0.059579</td>\n",
       "      <td>0.053483</td>\n",
       "      <td>0.051855</td>\n",
       "      <td>0.053213</td>\n",
       "      <td>0.062910</td>\n",
       "      <td>0.063974</td>\n",
       "      <td>0.003597</td>\n",
       "    </tr>\n",
       "    <tr>\n",
       "      <th>X_Coor</th>\n",
       "      <td>0.191780</td>\n",
       "      <td>1.000000</td>\n",
       "      <td>0.726945</td>\n",
       "      <td>-0.204329</td>\n",
       "      <td>-0.255606</td>\n",
       "      <td>-0.280747</td>\n",
       "      <td>-0.307397</td>\n",
       "      <td>-0.332864</td>\n",
       "      <td>-0.344188</td>\n",
       "      <td>-0.330783</td>\n",
       "      <td>-0.350967</td>\n",
       "      <td>-0.360619</td>\n",
       "      <td>-0.367321</td>\n",
       "      <td>0.339467</td>\n",
       "    </tr>\n",
       "    <tr>\n",
       "      <th>Y_Coor</th>\n",
       "      <td>0.379089</td>\n",
       "      <td>0.726945</td>\n",
       "      <td>1.000000</td>\n",
       "      <td>0.080584</td>\n",
       "      <td>0.045499</td>\n",
       "      <td>0.026565</td>\n",
       "      <td>0.013892</td>\n",
       "      <td>-0.022981</td>\n",
       "      <td>-0.038447</td>\n",
       "      <td>-0.035339</td>\n",
       "      <td>-0.043528</td>\n",
       "      <td>-0.083591</td>\n",
       "      <td>-0.083901</td>\n",
       "      <td>0.246509</td>\n",
       "    </tr>\n",
       "    <tr>\n",
       "      <th>band1</th>\n",
       "      <td>0.093838</td>\n",
       "      <td>-0.204329</td>\n",
       "      <td>0.080584</td>\n",
       "      <td>1.000000</td>\n",
       "      <td>0.985820</td>\n",
       "      <td>0.965835</td>\n",
       "      <td>0.932034</td>\n",
       "      <td>0.875979</td>\n",
       "      <td>0.848029</td>\n",
       "      <td>0.849837</td>\n",
       "      <td>0.816150</td>\n",
       "      <td>0.547302</td>\n",
       "      <td>0.588601</td>\n",
       "      <td>-0.084189</td>\n",
       "    </tr>\n",
       "    <tr>\n",
       "      <th>band2</th>\n",
       "      <td>0.084647</td>\n",
       "      <td>-0.255606</td>\n",
       "      <td>0.045499</td>\n",
       "      <td>0.985820</td>\n",
       "      <td>1.000000</td>\n",
       "      <td>0.992153</td>\n",
       "      <td>0.967881</td>\n",
       "      <td>0.925756</td>\n",
       "      <td>0.903478</td>\n",
       "      <td>0.905397</td>\n",
       "      <td>0.875685</td>\n",
       "      <td>0.637056</td>\n",
       "      <td>0.672913</td>\n",
       "      <td>-0.106136</td>\n",
       "    </tr>\n",
       "    <tr>\n",
       "      <th>band3</th>\n",
       "      <td>0.085909</td>\n",
       "      <td>-0.280747</td>\n",
       "      <td>0.026565</td>\n",
       "      <td>0.965835</td>\n",
       "      <td>0.992153</td>\n",
       "      <td>1.000000</td>\n",
       "      <td>0.978766</td>\n",
       "      <td>0.940200</td>\n",
       "      <td>0.921035</td>\n",
       "      <td>0.921260</td>\n",
       "      <td>0.896022</td>\n",
       "      <td>0.690315</td>\n",
       "      <td>0.724326</td>\n",
       "      <td>-0.111327</td>\n",
       "    </tr>\n",
       "    <tr>\n",
       "      <th>band4</th>\n",
       "      <td>0.082847</td>\n",
       "      <td>-0.307397</td>\n",
       "      <td>0.013892</td>\n",
       "      <td>0.932034</td>\n",
       "      <td>0.967881</td>\n",
       "      <td>0.978766</td>\n",
       "      <td>1.000000</td>\n",
       "      <td>0.978410</td>\n",
       "      <td>0.964319</td>\n",
       "      <td>0.939337</td>\n",
       "      <td>0.944565</td>\n",
       "      <td>0.743650</td>\n",
       "      <td>0.769352</td>\n",
       "      <td>-0.140994</td>\n",
       "    </tr>\n",
       "    <tr>\n",
       "      <th>band5</th>\n",
       "      <td>0.059579</td>\n",
       "      <td>-0.332864</td>\n",
       "      <td>-0.022981</td>\n",
       "      <td>0.875979</td>\n",
       "      <td>0.925756</td>\n",
       "      <td>0.940200</td>\n",
       "      <td>0.978410</td>\n",
       "      <td>1.000000</td>\n",
       "      <td>0.996887</td>\n",
       "      <td>0.977697</td>\n",
       "      <td>0.987690</td>\n",
       "      <td>0.795062</td>\n",
       "      <td>0.804027</td>\n",
       "      <td>-0.183761</td>\n",
       "    </tr>\n",
       "    <tr>\n",
       "      <th>band6</th>\n",
       "      <td>0.053483</td>\n",
       "      <td>-0.344188</td>\n",
       "      <td>-0.038447</td>\n",
       "      <td>0.848029</td>\n",
       "      <td>0.903478</td>\n",
       "      <td>0.921035</td>\n",
       "      <td>0.964319</td>\n",
       "      <td>0.996887</td>\n",
       "      <td>1.000000</td>\n",
       "      <td>0.982208</td>\n",
       "      <td>0.995257</td>\n",
       "      <td>0.822914</td>\n",
       "      <td>0.827034</td>\n",
       "      <td>-0.196833</td>\n",
       "    </tr>\n",
       "    <tr>\n",
       "      <th>band7</th>\n",
       "      <td>0.051855</td>\n",
       "      <td>-0.330783</td>\n",
       "      <td>-0.035339</td>\n",
       "      <td>0.849837</td>\n",
       "      <td>0.905397</td>\n",
       "      <td>0.921260</td>\n",
       "      <td>0.939337</td>\n",
       "      <td>0.977697</td>\n",
       "      <td>0.982208</td>\n",
       "      <td>1.000000</td>\n",
       "      <td>0.981982</td>\n",
       "      <td>0.817858</td>\n",
       "      <td>0.818227</td>\n",
       "      <td>-0.202750</td>\n",
       "    </tr>\n",
       "    <tr>\n",
       "      <th>band8</th>\n",
       "      <td>0.053213</td>\n",
       "      <td>-0.350967</td>\n",
       "      <td>-0.043528</td>\n",
       "      <td>0.816150</td>\n",
       "      <td>0.875685</td>\n",
       "      <td>0.896022</td>\n",
       "      <td>0.944565</td>\n",
       "      <td>0.987690</td>\n",
       "      <td>0.995257</td>\n",
       "      <td>0.981982</td>\n",
       "      <td>1.000000</td>\n",
       "      <td>0.853090</td>\n",
       "      <td>0.850455</td>\n",
       "      <td>-0.220017</td>\n",
       "    </tr>\n",
       "    <tr>\n",
       "      <th>band9</th>\n",
       "      <td>0.062910</td>\n",
       "      <td>-0.360619</td>\n",
       "      <td>-0.083591</td>\n",
       "      <td>0.547302</td>\n",
       "      <td>0.637056</td>\n",
       "      <td>0.690315</td>\n",
       "      <td>0.743650</td>\n",
       "      <td>0.795062</td>\n",
       "      <td>0.822914</td>\n",
       "      <td>0.817858</td>\n",
       "      <td>0.853090</td>\n",
       "      <td>1.000000</td>\n",
       "      <td>0.989296</td>\n",
       "      <td>-0.199466</td>\n",
       "    </tr>\n",
       "    <tr>\n",
       "      <th>band10</th>\n",
       "      <td>0.063974</td>\n",
       "      <td>-0.367321</td>\n",
       "      <td>-0.083901</td>\n",
       "      <td>0.588601</td>\n",
       "      <td>0.672913</td>\n",
       "      <td>0.724326</td>\n",
       "      <td>0.769352</td>\n",
       "      <td>0.804027</td>\n",
       "      <td>0.827034</td>\n",
       "      <td>0.818227</td>\n",
       "      <td>0.850455</td>\n",
       "      <td>0.989296</td>\n",
       "      <td>1.000000</td>\n",
       "      <td>-0.201172</td>\n",
       "    </tr>\n",
       "    <tr>\n",
       "      <th>label</th>\n",
       "      <td>0.003597</td>\n",
       "      <td>0.339467</td>\n",
       "      <td>0.246509</td>\n",
       "      <td>-0.084189</td>\n",
       "      <td>-0.106136</td>\n",
       "      <td>-0.111327</td>\n",
       "      <td>-0.140994</td>\n",
       "      <td>-0.183761</td>\n",
       "      <td>-0.196833</td>\n",
       "      <td>-0.202750</td>\n",
       "      <td>-0.220017</td>\n",
       "      <td>-0.199466</td>\n",
       "      <td>-0.201172</td>\n",
       "      <td>1.000000</td>\n",
       "    </tr>\n",
       "  </tbody>\n",
       "</table>\n",
       "</div>"
      ],
      "text/plain": [
       "             LST    X_Coor    Y_Coor     band1     band2     band3     band4  \\\n",
       "LST     1.000000  0.191780  0.379089  0.093838  0.084647  0.085909  0.082847   \n",
       "X_Coor  0.191780  1.000000  0.726945 -0.204329 -0.255606 -0.280747 -0.307397   \n",
       "Y_Coor  0.379089  0.726945  1.000000  0.080584  0.045499  0.026565  0.013892   \n",
       "band1   0.093838 -0.204329  0.080584  1.000000  0.985820  0.965835  0.932034   \n",
       "band2   0.084647 -0.255606  0.045499  0.985820  1.000000  0.992153  0.967881   \n",
       "band3   0.085909 -0.280747  0.026565  0.965835  0.992153  1.000000  0.978766   \n",
       "band4   0.082847 -0.307397  0.013892  0.932034  0.967881  0.978766  1.000000   \n",
       "band5   0.059579 -0.332864 -0.022981  0.875979  0.925756  0.940200  0.978410   \n",
       "band6   0.053483 -0.344188 -0.038447  0.848029  0.903478  0.921035  0.964319   \n",
       "band7   0.051855 -0.330783 -0.035339  0.849837  0.905397  0.921260  0.939337   \n",
       "band8   0.053213 -0.350967 -0.043528  0.816150  0.875685  0.896022  0.944565   \n",
       "band9   0.062910 -0.360619 -0.083591  0.547302  0.637056  0.690315  0.743650   \n",
       "band10  0.063974 -0.367321 -0.083901  0.588601  0.672913  0.724326  0.769352   \n",
       "label   0.003597  0.339467  0.246509 -0.084189 -0.106136 -0.111327 -0.140994   \n",
       "\n",
       "           band5     band6     band7     band8     band9    band10     label  \n",
       "LST     0.059579  0.053483  0.051855  0.053213  0.062910  0.063974  0.003597  \n",
       "X_Coor -0.332864 -0.344188 -0.330783 -0.350967 -0.360619 -0.367321  0.339467  \n",
       "Y_Coor -0.022981 -0.038447 -0.035339 -0.043528 -0.083591 -0.083901  0.246509  \n",
       "band1   0.875979  0.848029  0.849837  0.816150  0.547302  0.588601 -0.084189  \n",
       "band2   0.925756  0.903478  0.905397  0.875685  0.637056  0.672913 -0.106136  \n",
       "band3   0.940200  0.921035  0.921260  0.896022  0.690315  0.724326 -0.111327  \n",
       "band4   0.978410  0.964319  0.939337  0.944565  0.743650  0.769352 -0.140994  \n",
       "band5   1.000000  0.996887  0.977697  0.987690  0.795062  0.804027 -0.183761  \n",
       "band6   0.996887  1.000000  0.982208  0.995257  0.822914  0.827034 -0.196833  \n",
       "band7   0.977697  0.982208  1.000000  0.981982  0.817858  0.818227 -0.202750  \n",
       "band8   0.987690  0.995257  0.981982  1.000000  0.853090  0.850455 -0.220017  \n",
       "band9   0.795062  0.822914  0.817858  0.853090  1.000000  0.989296 -0.199466  \n",
       "band10  0.804027  0.827034  0.818227  0.850455  0.989296  1.000000 -0.201172  \n",
       "label  -0.183761 -0.196833 -0.202750 -0.220017 -0.199466 -0.201172  1.000000  "
      ]
     },
     "execution_count": 14,
     "metadata": {},
     "output_type": "execute_result"
    }
   ],
   "source": [
    "# making a correlation matrix\n",
    "df.corr()"
   ]
  },
  {
   "cell_type": "code",
   "execution_count": 15,
   "id": "18815b8f",
   "metadata": {},
   "outputs": [
    {
     "data": {
      "image/png": "[encoded data removed]",
      "text/plain": [
       "<Figure size 1500x1000 with 2 Axes>"
      ]
     },
     "metadata": {},
     "output_type": "display_data"
    }
   ],
   "source": [
    "#making a correlation matrix\n",
    "corr_matrix = df.corr()\n",
    "fig, ax = plt.subplots(figsize=(15, 10))\n",
    "ax = sns.heatmap(corr_matrix,\n",
    "                 annot=True,\n",
    "                 linewidths=0.5,\n",
    "                 fmt=\".2f\",\n",
    "                 cmap=\"YlGnBu\")"
   ]
  },
  {
   "cell_type": "code",
   "execution_count": 16,
   "id": "43d7af59",
   "metadata": {},
   "outputs": [
    {
     "data": {
      "text/html": [
       "<div>\n",
       "<style scoped>\n",
       "    .dataframe tbody tr th:only-of-type {\n",
       "        vertical-align: middle;\n",
       "    }\n",
       "\n",
       "    .dataframe tbody tr th {\n",
       "        vertical-align: top;\n",
       "    }\n",
       "\n",
       "    .dataframe thead th {\n",
       "        text-align: right;\n",
       "    }\n",
       "</style>\n",
       "<table border=\"1\" class=\"dataframe\">\n",
       "  <thead>\n",
       "    <tr style=\"text-align: right;\">\n",
       "      <th></th>\n",
       "      <th>LST</th>\n",
       "      <th>X_Coor</th>\n",
       "      <th>Y_Coor</th>\n",
       "      <th>band1</th>\n",
       "      <th>band2</th>\n",
       "      <th>band3</th>\n",
       "      <th>band4</th>\n",
       "      <th>band5</th>\n",
       "      <th>band6</th>\n",
       "      <th>band7</th>\n",
       "      <th>band8</th>\n",
       "      <th>band9</th>\n",
       "      <th>band10</th>\n",
       "      <th>label</th>\n",
       "    </tr>\n",
       "  </thead>\n",
       "  <tbody>\n",
       "    <tr>\n",
       "      <th>0</th>\n",
       "      <td>23.794017</td>\n",
       "      <td>629719.8862</td>\n",
       "      <td>3959150.278</td>\n",
       "      <td>1449</td>\n",
       "      <td>1556</td>\n",
       "      <td>1750</td>\n",
       "      <td>1784</td>\n",
       "      <td>1851</td>\n",
       "      <td>1934</td>\n",
       "      <td>1863</td>\n",
       "      <td>1918</td>\n",
       "      <td>2704</td>\n",
       "      <td>2719</td>\n",
       "      <td>0</td>\n",
       "    </tr>\n",
       "    <tr>\n",
       "      <th>1</th>\n",
       "      <td>23.794017</td>\n",
       "      <td>629679.8862</td>\n",
       "      <td>3959140.278</td>\n",
       "      <td>1269</td>\n",
       "      <td>1445</td>\n",
       "      <td>1598</td>\n",
       "      <td>1585</td>\n",
       "      <td>1718</td>\n",
       "      <td>1788</td>\n",
       "      <td>1856</td>\n",
       "      <td>1826</td>\n",
       "      <td>2592</td>\n",
       "      <td>2311</td>\n",
       "      <td>0</td>\n",
       "    </tr>\n",
       "    <tr>\n",
       "      <th>2</th>\n",
       "      <td>21.481792</td>\n",
       "      <td>629689.8862</td>\n",
       "      <td>3959140.278</td>\n",
       "      <td>1286</td>\n",
       "      <td>1447</td>\n",
       "      <td>1562</td>\n",
       "      <td>1670</td>\n",
       "      <td>1794</td>\n",
       "      <td>1882</td>\n",
       "      <td>1865</td>\n",
       "      <td>1875</td>\n",
       "      <td>2672</td>\n",
       "      <td>2427</td>\n",
       "      <td>0</td>\n",
       "    </tr>\n",
       "    <tr>\n",
       "      <th>3</th>\n",
       "      <td>21.481792</td>\n",
       "      <td>629699.8862</td>\n",
       "      <td>3959140.278</td>\n",
       "      <td>1310</td>\n",
       "      <td>1445</td>\n",
       "      <td>1601</td>\n",
       "      <td>1734</td>\n",
       "      <td>1839</td>\n",
       "      <td>1936</td>\n",
       "      <td>1892</td>\n",
       "      <td>1907</td>\n",
       "      <td>2719</td>\n",
       "      <td>2549</td>\n",
       "      <td>0</td>\n",
       "    </tr>\n",
       "    <tr>\n",
       "      <th>4</th>\n",
       "      <td>21.481792</td>\n",
       "      <td>629709.8862</td>\n",
       "      <td>3959140.278</td>\n",
       "      <td>1365</td>\n",
       "      <td>1507</td>\n",
       "      <td>1703</td>\n",
       "      <td>1779</td>\n",
       "      <td>1854</td>\n",
       "      <td>1951</td>\n",
       "      <td>1932</td>\n",
       "      <td>1925</td>\n",
       "      <td>2733</td>\n",
       "      <td>2674</td>\n",
       "      <td>0</td>\n",
       "    </tr>\n",
       "  </tbody>\n",
       "</table>\n",
       "</div>"
      ],
      "text/plain": [
       "         LST       X_Coor       Y_Coor  band1  band2  band3  band4  band5  \\\n",
       "0  23.794017  629719.8862  3959150.278   1449   1556   1750   1784   1851   \n",
       "1  23.794017  629679.8862  3959140.278   1269   1445   1598   1585   1718   \n",
       "2  21.481792  629689.8862  3959140.278   1286   1447   1562   1670   1794   \n",
       "3  21.481792  629699.8862  3959140.278   1310   1445   1601   1734   1839   \n",
       "4  21.481792  629709.8862  3959140.278   1365   1507   1703   1779   1854   \n",
       "\n",
       "   band6  band7  band8  band9  band10  label  \n",
       "0   1934   1863   1918   2704    2719      0  \n",
       "1   1788   1856   1826   2592    2311      0  \n",
       "2   1882   1865   1875   2672    2427      0  \n",
       "3   1936   1892   1907   2719    2549      0  \n",
       "4   1951   1932   1925   2733    2674      0  "
      ]
     },
     "execution_count": 16,
     "metadata": {},
     "output_type": "execute_result"
    }
   ],
   "source": [
    "df.head()"
   ]
  },
  {
   "cell_type": "code",
   "execution_count": 17,
   "id": "2b9d4826",
   "metadata": {},
   "outputs": [
    {
     "data": {
      "text/html": [
       "<div>\n",
       "<style scoped>\n",
       "    .dataframe tbody tr th:only-of-type {\n",
       "        vertical-align: middle;\n",
       "    }\n",
       "\n",
       "    .dataframe tbody tr th {\n",
       "        vertical-align: top;\n",
       "    }\n",
       "\n",
       "    .dataframe thead th {\n",
       "        text-align: right;\n",
       "    }\n",
       "</style>\n",
       "<table border=\"1\" class=\"dataframe\">\n",
       "  <thead>\n",
       "    <tr style=\"text-align: right;\">\n",
       "      <th></th>\n",
       "      <th>LST</th>\n",
       "      <th>X_Coor</th>\n",
       "      <th>Y_Coor</th>\n",
       "      <th>band1</th>\n",
       "      <th>band2</th>\n",
       "      <th>band3</th>\n",
       "      <th>band4</th>\n",
       "      <th>band5</th>\n",
       "      <th>band6</th>\n",
       "      <th>band7</th>\n",
       "      <th>band8</th>\n",
       "      <th>band9</th>\n",
       "      <th>band10</th>\n",
       "    </tr>\n",
       "  </thead>\n",
       "  <tbody>\n",
       "    <tr>\n",
       "      <th>0</th>\n",
       "      <td>23.794017</td>\n",
       "      <td>629719.8862</td>\n",
       "      <td>3959150.278</td>\n",
       "      <td>1449</td>\n",
       "      <td>1556</td>\n",
       "      <td>1750</td>\n",
       "      <td>1784</td>\n",
       "      <td>1851</td>\n",
       "      <td>1934</td>\n",
       "      <td>1863</td>\n",
       "      <td>1918</td>\n",
       "      <td>2704</td>\n",
       "      <td>2719</td>\n",
       "    </tr>\n",
       "    <tr>\n",
       "      <th>1</th>\n",
       "      <td>23.794017</td>\n",
       "      <td>629679.8862</td>\n",
       "      <td>3959140.278</td>\n",
       "      <td>1269</td>\n",
       "      <td>1445</td>\n",
       "      <td>1598</td>\n",
       "      <td>1585</td>\n",
       "      <td>1718</td>\n",
       "      <td>1788</td>\n",
       "      <td>1856</td>\n",
       "      <td>1826</td>\n",
       "      <td>2592</td>\n",
       "      <td>2311</td>\n",
       "    </tr>\n",
       "    <tr>\n",
       "      <th>2</th>\n",
       "      <td>21.481792</td>\n",
       "      <td>629689.8862</td>\n",
       "      <td>3959140.278</td>\n",
       "      <td>1286</td>\n",
       "      <td>1447</td>\n",
       "      <td>1562</td>\n",
       "      <td>1670</td>\n",
       "      <td>1794</td>\n",
       "      <td>1882</td>\n",
       "      <td>1865</td>\n",
       "      <td>1875</td>\n",
       "      <td>2672</td>\n",
       "      <td>2427</td>\n",
       "    </tr>\n",
       "    <tr>\n",
       "      <th>3</th>\n",
       "      <td>21.481792</td>\n",
       "      <td>629699.8862</td>\n",
       "      <td>3959140.278</td>\n",
       "      <td>1310</td>\n",
       "      <td>1445</td>\n",
       "      <td>1601</td>\n",
       "      <td>1734</td>\n",
       "      <td>1839</td>\n",
       "      <td>1936</td>\n",
       "      <td>1892</td>\n",
       "      <td>1907</td>\n",
       "      <td>2719</td>\n",
       "      <td>2549</td>\n",
       "    </tr>\n",
       "    <tr>\n",
       "      <th>4</th>\n",
       "      <td>21.481792</td>\n",
       "      <td>629709.8862</td>\n",
       "      <td>3959140.278</td>\n",
       "      <td>1365</td>\n",
       "      <td>1507</td>\n",
       "      <td>1703</td>\n",
       "      <td>1779</td>\n",
       "      <td>1854</td>\n",
       "      <td>1951</td>\n",
       "      <td>1932</td>\n",
       "      <td>1925</td>\n",
       "      <td>2733</td>\n",
       "      <td>2674</td>\n",
       "    </tr>\n",
       "    <tr>\n",
       "      <th>...</th>\n",
       "      <td>...</td>\n",
       "      <td>...</td>\n",
       "      <td>...</td>\n",
       "      <td>...</td>\n",
       "      <td>...</td>\n",
       "      <td>...</td>\n",
       "      <td>...</td>\n",
       "      <td>...</td>\n",
       "      <td>...</td>\n",
       "      <td>...</td>\n",
       "      <td>...</td>\n",
       "      <td>...</td>\n",
       "      <td>...</td>\n",
       "    </tr>\n",
       "    <tr>\n",
       "      <th>1048570</th>\n",
       "      <td>-14.955011</td>\n",
       "      <td>622553.1266</td>\n",
       "      <td>3956865.173</td>\n",
       "      <td>1278</td>\n",
       "      <td>1278</td>\n",
       "      <td>1292</td>\n",
       "      <td>1210</td>\n",
       "      <td>1227</td>\n",
       "      <td>1226</td>\n",
       "      <td>1162</td>\n",
       "      <td>1172</td>\n",
       "      <td>1114</td>\n",
       "      <td>955</td>\n",
       "    </tr>\n",
       "    <tr>\n",
       "      <th>1048571</th>\n",
       "      <td>-11.789091</td>\n",
       "      <td>622563.1266</td>\n",
       "      <td>3956865.173</td>\n",
       "      <td>1251</td>\n",
       "      <td>1206</td>\n",
       "      <td>1221</td>\n",
       "      <td>1187</td>\n",
       "      <td>1188</td>\n",
       "      <td>1186</td>\n",
       "      <td>1121</td>\n",
       "      <td>1157</td>\n",
       "      <td>1095</td>\n",
       "      <td>940</td>\n",
       "    </tr>\n",
       "    <tr>\n",
       "      <th>1048572</th>\n",
       "      <td>-11.789091</td>\n",
       "      <td>622573.1266</td>\n",
       "      <td>3956865.173</td>\n",
       "      <td>1190</td>\n",
       "      <td>1174</td>\n",
       "      <td>1141</td>\n",
       "      <td>1175</td>\n",
       "      <td>1165</td>\n",
       "      <td>1166</td>\n",
       "      <td>1037</td>\n",
       "      <td>1139</td>\n",
       "      <td>1095</td>\n",
       "      <td>948</td>\n",
       "    </tr>\n",
       "    <tr>\n",
       "      <th>1048573</th>\n",
       "      <td>-11.789091</td>\n",
       "      <td>622583.1266</td>\n",
       "      <td>3956865.173</td>\n",
       "      <td>1225</td>\n",
       "      <td>1173</td>\n",
       "      <td>1216</td>\n",
       "      <td>1172</td>\n",
       "      <td>1159</td>\n",
       "      <td>1165</td>\n",
       "      <td>1088</td>\n",
       "      <td>1118</td>\n",
       "      <td>1113</td>\n",
       "      <td>978</td>\n",
       "    </tr>\n",
       "    <tr>\n",
       "      <th>1048574</th>\n",
       "      <td>-11.789091</td>\n",
       "      <td>622593.1266</td>\n",
       "      <td>3956865.173</td>\n",
       "      <td>1269</td>\n",
       "      <td>1210</td>\n",
       "      <td>1252</td>\n",
       "      <td>1204</td>\n",
       "      <td>1194</td>\n",
       "      <td>1208</td>\n",
       "      <td>1178</td>\n",
       "      <td>1150</td>\n",
       "      <td>1180</td>\n",
       "      <td>1069</td>\n",
       "    </tr>\n",
       "  </tbody>\n",
       "</table>\n",
       "<p>1048575 rows × 13 columns</p>\n",
       "</div>"
      ],
      "text/plain": [
       "               LST       X_Coor       Y_Coor  band1  band2  band3  band4  \\\n",
       "0        23.794017  629719.8862  3959150.278   1449   1556   1750   1784   \n",
       "1        23.794017  629679.8862  3959140.278   1269   1445   1598   1585   \n",
       "2        21.481792  629689.8862  3959140.278   1286   1447   1562   1670   \n",
       "3        21.481792  629699.8862  3959140.278   1310   1445   1601   1734   \n",
       "4        21.481792  629709.8862  3959140.278   1365   1507   1703   1779   \n",
       "...            ...          ...          ...    ...    ...    ...    ...   \n",
       "1048570 -14.955011  622553.1266  3956865.173   1278   1278   1292   1210   \n",
       "1048571 -11.789091  622563.1266  3956865.173   1251   1206   1221   1187   \n",
       "1048572 -11.789091  622573.1266  3956865.173   1190   1174   1141   1175   \n",
       "1048573 -11.789091  622583.1266  3956865.173   1225   1173   1216   1172   \n",
       "1048574 -11.789091  622593.1266  3956865.173   1269   1210   1252   1204   \n",
       "\n",
       "         band5  band6  band7  band8  band9  band10  \n",
       "0         1851   1934   1863   1918   2704    2719  \n",
       "1         1718   1788   1856   1826   2592    2311  \n",
       "2         1794   1882   1865   1875   2672    2427  \n",
       "3         1839   1936   1892   1907   2719    2549  \n",
       "4         1854   1951   1932   1925   2733    2674  \n",
       "...        ...    ...    ...    ...    ...     ...  \n",
       "1048570   1227   1226   1162   1172   1114     955  \n",
       "1048571   1188   1186   1121   1157   1095     940  \n",
       "1048572   1165   1166   1037   1139   1095     948  \n",
       "1048573   1159   1165   1088   1118   1113     978  \n",
       "1048574   1194   1208   1178   1150   1180    1069  \n",
       "\n",
       "[1048575 rows x 13 columns]"
      ]
     },
     "execution_count": 17,
     "metadata": {},
     "output_type": "execute_result"
    }
   ],
   "source": [
    "# Creating X ( features matrix)\n",
    "X = df.drop(['label'], axis = 1) \n",
    "X"
   ]
  },
  {
   "cell_type": "code",
   "execution_count": 18,
   "id": "16d799d7",
   "metadata": {},
   "outputs": [
    {
     "data": {
      "text/plain": [
       "0          0\n",
       "1          0\n",
       "2          0\n",
       "3          0\n",
       "4          0\n",
       "          ..\n",
       "1048570    1\n",
       "1048571    1\n",
       "1048572    1\n",
       "1048573    1\n",
       "1048574    1\n",
       "Name: label, Length: 1048575, dtype: int64"
      ]
     },
     "execution_count": 18,
     "metadata": {},
     "output_type": "execute_result"
    }
   ],
   "source": [
    "# Creating y ( labels )\n",
    "y = df[\"label\"] \n",
    "y "
   ]
  },
  {
   "cell_type": "code",
   "execution_count": 19,
   "id": "6fa49e2a",
   "metadata": {},
   "outputs": [
    {
     "data": {
      "text/plain": [
       "0    999999\n",
       "1     48576\n",
       "Name: label, dtype: int64"
      ]
     },
     "execution_count": 19,
     "metadata": {},
     "output_type": "execute_result"
    }
   ],
   "source": [
    "# To find how many of each class there are\n",
    "df[\"label\"].value_counts()\n",
    "\n",
    "# label - is debris covered glacier or not (0 = No and 1 = Yes)"
   ]
  },
  {
   "cell_type": "code",
   "execution_count": 20,
   "id": "a4dca76e",
   "metadata": {},
   "outputs": [],
   "source": [
    "np.random.seed(26)\n",
    "\n",
    "# Splitting Data into Training 80% and Testing 20% Data\n",
    "X_train, X_test, y_train, y_test = train_test_split(X, y, test_size=0.2)"
   ]
  },
  {
   "cell_type": "code",
   "execution_count": 21,
   "id": "8d80a180",
   "metadata": {},
   "outputs": [
    {
     "data": {
      "text/plain": [
       "(              LST       X_Coor       Y_Coor  band1  band2  band3  band4  \\\n",
       " 292392  -9.780245  607199.8862  3955350.278   2408   2582   2725   2764   \n",
       " 567770  -8.776316  613899.8862  3952460.278   1990   1942   2243   1936   \n",
       " 516775  -2.187429  606729.8862  3952990.278   2505   2741   2935   2912   \n",
       " 547753  -8.473919  609699.8862  3952670.278   1476   1512   1592   1582   \n",
       " 336439  -9.881538  616759.8862  3954630.278   1811   1951   2231   2498   \n",
       " ...           ...          ...          ...    ...    ...    ...    ...   \n",
       " 993217  -3.143967  603649.8862  3946520.278   1527   1703   1848   1909   \n",
       " 1025456  6.511560  626083.1266  3957065.173   1556   1572   1694   1618   \n",
       " 448262  -4.654892  613599.8862  3953640.278   1857   1905   2039   2223   \n",
       " 947518   1.886292  605029.8862  3947530.278   1251   1311   1463   1622   \n",
       " 316213  -6.512050  628929.8862  3954940.278   1277   1234   1163   1422   \n",
       " \n",
       "          band5  band6  band7  band8  band9  band10  \n",
       " 292392    2765   2894   2812   2931   3269    3220  \n",
       " 567770    1949   1932   1971   1776    177     148  \n",
       " 516775    2927   3063   3006   3073   3085    3019  \n",
       " 547753    1746   1814   1775   1868   2255    2005  \n",
       " 336439    2602   2691   2413   2804   3417    3033  \n",
       " ...        ...    ...    ...    ...    ...     ...  \n",
       " 993217    2051   2151   2172   2148   2824    2761  \n",
       " 1025456   1630   1654   1656   1625   1999    2132  \n",
       " 448262    2167   2049   1742   1900    670     553  \n",
       " 947518    1879   2020   1946   2103   2671    2160  \n",
       " 316213    1473   1471   1186   1515   1713    1565  \n",
       " \n",
       " [838860 rows x 13 columns],\n",
       " 838860)"
      ]
     },
     "execution_count": 21,
     "metadata": {},
     "output_type": "execute_result"
    }
   ],
   "source": [
    "X_train, len(X_train)"
   ]
  },
  {
   "cell_type": "code",
   "execution_count": 22,
   "id": "5a00daae",
   "metadata": {},
   "outputs": [
    {
     "data": {
      "text/plain": [
       "(               LST       X_Coor       Y_Coor  band1  band2  band3  band4  \\\n",
       " 741911    4.097108  610919.8862  3950380.278   1078   1124   1133   1390   \n",
       " 358218   -2.587334  607849.8862  3954390.278   1966   1997   2265   2304   \n",
       " 786535    1.535126  609089.8862  3949770.278   1438   1570   1742   1768   \n",
       " 313981   -8.724337  606859.8862  3954970.278   1965   2255   2534   2624   \n",
       " 595242    3.807357  613519.8862  3952160.278   3123   3421   3933   3569   \n",
       " ...            ...          ...          ...    ...    ...    ...    ...   \n",
       " 430085   -4.951752  612699.8862  3953790.278   2066   2346   2636   2603   \n",
       " 239511    9.121060  611089.8862  3956600.278   2536   2775   2963   2957   \n",
       " 970249   19.965756  604989.8862  3947100.278   1137   1217   1201   1376   \n",
       " 1004783   7.510167  627963.1266  3957565.173   1597   1711   1865   1739   \n",
       " 815114   -1.987880  601039.8862  3949410.278   2039   2366   2735   2829   \n",
       " \n",
       "          band5  band6  band7  band8  band9  band10  \n",
       " 741911    2012   2185   2301   2314   2225    1624  \n",
       " 358218    2348   2463   2172   2470   2625    2529  \n",
       " 786535    1872   1973   2011   1967   2442    2071  \n",
       " 313981    2835   2949   2957   3080   4154    3736  \n",
       " 595242    3632   3627   3854   3539    560     443  \n",
       " ...        ...    ...    ...    ...    ...     ...  \n",
       " 430085    2705   2809   2842   2794   3232    2956  \n",
       " 239511    3047   3190   3383   3422   4059    3710  \n",
       " 970249    1606   1722   1760   1791   2144    1836  \n",
       " 1004783   1731   1776   1785   1672   2100    1684  \n",
       " 815114    3034   3159   3071   3267   3866    3577  \n",
       " \n",
       " [209715 rows x 13 columns],\n",
       " 209715)"
      ]
     },
     "execution_count": 22,
     "metadata": {},
     "output_type": "execute_result"
    }
   ],
   "source": [
    "X_test , len(X_test)"
   ]
  },
  {
   "cell_type": "code",
   "execution_count": 23,
   "id": "b5e0d409",
   "metadata": {},
   "outputs": [
    {
     "data": {
      "text/plain": [
       "(292392     0\n",
       " 567770     0\n",
       " 516775     0\n",
       " 547753     0\n",
       " 336439     0\n",
       "           ..\n",
       " 993217     0\n",
       " 1025456    1\n",
       " 448262     0\n",
       " 947518     0\n",
       " 316213     0\n",
       " Name: label, Length: 838860, dtype: int64,\n",
       " 838860)"
      ]
     },
     "execution_count": 23,
     "metadata": {},
     "output_type": "execute_result"
    }
   ],
   "source": [
    "y_train , len(y_train)"
   ]
  },
  {
   "cell_type": "code",
   "execution_count": 24,
   "id": "a9ddb30e",
   "metadata": {},
   "outputs": [
    {
     "data": {
      "text/plain": [
       "(741911     0\n",
       " 358218     0\n",
       " 786535     0\n",
       " 313981     0\n",
       " 595242     0\n",
       "           ..\n",
       " 430085     0\n",
       " 239511     0\n",
       " 970249     0\n",
       " 1004783    1\n",
       " 815114     0\n",
       " Name: label, Length: 209715, dtype: int64,\n",
       " 209715)"
      ]
     },
     "execution_count": 24,
     "metadata": {},
     "output_type": "execute_result"
    }
   ],
   "source": [
    "y_test , len(y_test)"
   ]
  },
  {
   "cell_type": "code",
   "execution_count": 25,
   "id": "68fd82ea",
   "metadata": {},
   "outputs": [],
   "source": [
    "# Keeping classification models in a dictionary\n",
    "models = {\"Logistic Regression\": LogisticRegression(max_iter=7000),\n",
    "          \"KNN\": KNeighborsClassifier(n_neighbors=20),\n",
    "          \"Random Forest\": RandomForestClassifier(),\n",
    "          \"Gaussian Naive Bayes\": GaussianNB(),\n",
    "          \"Decision Tree Classifier\": DecisionTreeClassifier()\n",
    "         }\n",
    "\n",
    "# Creating a function to fit and score models\n",
    "def fit_and_score(models, X_train, X_test, y_train, y_test):\n",
    "    \"\"\"\n",
    "    Fitting and evaluating different classification models for supervised learning\n",
    "    models : dictionary of different scikit-learn machine learning classification models\n",
    "    X_train : training data with no labels\n",
    "    X_test : testing data with no labels\n",
    "    y_train : training labels\n",
    "    y_test : testing labels\n",
    "    \n",
    "   \"\"\" \n",
    "    # setting up random.seed() method to help reproduce our results\n",
    "    np.random.seed(26)\n",
    "    \n",
    "    #creating a dictionary to save the models score/accuracy\n",
    "    model_scores = {}\n",
    "    \n",
    "    #loop through models\n",
    "    for name, model in models.items():\n",
    "        # fitting the model to the data\n",
    "        model.fit(X_train,y_train)\n",
    "        # evaluating the model and appending its score to model_scores\n",
    "        model_scores[name] = model.score(X_test, y_test)\n",
    "    return model_scores   "
   ]
  },
  {
   "cell_type": "code",
   "execution_count": 26,
   "id": "3aa423ec",
   "metadata": {},
   "outputs": [
    {
     "name": "stderr",
     "output_type": "stream",
     "text": [
      "C:\\Users\\parth\\anaconda3\\lib\\site-packages\\sklearn\\neighbors\\_classification.py:228: FutureWarning: Unlike other reduction functions (e.g. `skew`, `kurtosis`), the default behavior of `mode` typically preserves the axis it acts along. In SciPy 1.11.0, this behavior will change: the default value of `keepdims` will become False, the `axis` over which the statistic is taken will be eliminated, and the value None will no longer be accepted. Set `keepdims` to True or False to avoid this warning.\n",
      "  mode, _ = stats.mode(_y[neigh_ind, k], axis=1)\n"
     ]
    },
    {
     "data": {
      "text/plain": [
       "{'Logistic Regression': 0.967470138044489,\n",
       " 'KNN': 0.999971389743223,\n",
       " 'Random Forest': 0.9999761581193525,\n",
       " 'Gaussian Naive Bayes': 0.9386453043416064,\n",
       " 'Decision Tree Classifier': 0.9999761581193525}"
      ]
     },
     "execution_count": 26,
     "metadata": {},
     "output_type": "execute_result"
    }
   ],
   "source": [
    "model_scores = fit_and_score(models=models,\n",
    "                             X_train=X_train,\n",
    "                             X_test=X_test,\n",
    "                             y_train=y_train,\n",
    "                             y_test=y_test)\n",
    "\n",
    "model_scores"
   ]
  },
  {
   "cell_type": "code",
   "execution_count": 27,
   "id": "88c7c2a0",
   "metadata": {},
   "outputs": [
    {
     "data": {
      "text/plain": [
       "array([0.66992347, 0.98134611, 0.99943733, 0.99978542, 0.97138021])"
      ]
     },
     "execution_count": 27,
     "metadata": {},
     "output_type": "execute_result"
    }
   ],
   "source": [
    "np.random.seed(26)\n",
    "\n",
    "# Classification using Decision Tree Classifier\n",
    "clf =  DecisionTreeClassifier()\n",
    "val_scores = cross_val_score(clf, X, y, cv=5)\n",
    "val_scores"
   ]
  },
  {
   "cell_type": "code",
   "execution_count": 28,
   "id": "a47d8023",
   "metadata": {},
   "outputs": [
    {
     "data": {
      "text/plain": [
       "array([0.8491858 , 0.96906278, 0.96686932, 0.96534821, 0.96553895])"
      ]
     },
     "execution_count": 28,
     "metadata": {},
     "output_type": "execute_result"
    }
   ],
   "source": [
    "# setting up random.seed() method to help reproduce our results\n",
    "np.random.seed(26)\n",
    "\n",
    "# Classification using Logistic Regression Classifier\n",
    "clf =  LogisticRegression(max_iter=7000)\n",
    "val_scores = cross_val_score(clf, X, y, cv=5)\n",
    "val_scores"
   ]
  },
  {
   "cell_type": "code",
   "execution_count": 29,
   "id": "7c47a893",
   "metadata": {},
   "outputs": [
    {
     "name": "stderr",
     "output_type": "stream",
     "text": [
      "C:\\Users\\parth\\anaconda3\\lib\\site-packages\\sklearn\\neighbors\\_classification.py:228: FutureWarning: Unlike other reduction functions (e.g. `skew`, `kurtosis`), the default behavior of `mode` typically preserves the axis it acts along. In SciPy 1.11.0, this behavior will change: the default value of `keepdims` will become False, the `axis` over which the statistic is taken will be eliminated, and the value None will no longer be accepted. Set `keepdims` to True or False to avoid this warning.\n",
      "  mode, _ = stats.mode(_y[neigh_ind, k], axis=1)\n",
      "C:\\Users\\parth\\anaconda3\\lib\\site-packages\\sklearn\\neighbors\\_classification.py:228: FutureWarning: Unlike other reduction functions (e.g. `skew`, `kurtosis`), the default behavior of `mode` typically preserves the axis it acts along. In SciPy 1.11.0, this behavior will change: the default value of `keepdims` will become False, the `axis` over which the statistic is taken will be eliminated, and the value None will no longer be accepted. Set `keepdims` to True or False to avoid this warning.\n",
      "  mode, _ = stats.mode(_y[neigh_ind, k], axis=1)\n",
      "C:\\Users\\parth\\anaconda3\\lib\\site-packages\\sklearn\\neighbors\\_classification.py:228: FutureWarning: Unlike other reduction functions (e.g. `skew`, `kurtosis`), the default behavior of `mode` typically preserves the axis it acts along. In SciPy 1.11.0, this behavior will change: the default value of `keepdims` will become False, the `axis` over which the statistic is taken will be eliminated, and the value None will no longer be accepted. Set `keepdims` to True or False to avoid this warning.\n",
      "  mode, _ = stats.mode(_y[neigh_ind, k], axis=1)\n",
      "C:\\Users\\parth\\anaconda3\\lib\\site-packages\\sklearn\\neighbors\\_classification.py:228: FutureWarning: Unlike other reduction functions (e.g. `skew`, `kurtosis`), the default behavior of `mode` typically preserves the axis it acts along. In SciPy 1.11.0, this behavior will change: the default value of `keepdims` will become False, the `axis` over which the statistic is taken will be eliminated, and the value None will no longer be accepted. Set `keepdims` to True or False to avoid this warning.\n",
      "  mode, _ = stats.mode(_y[neigh_ind, k], axis=1)\n",
      "C:\\Users\\parth\\anaconda3\\lib\\site-packages\\sklearn\\neighbors\\_classification.py:228: FutureWarning: Unlike other reduction functions (e.g. `skew`, `kurtosis`), the default behavior of `mode` typically preserves the axis it acts along. In SciPy 1.11.0, this behavior will change: the default value of `keepdims` will become False, the `axis` over which the statistic is taken will be eliminated, and the value None will no longer be accepted. Set `keepdims` to True or False to avoid this warning.\n",
      "  mode, _ = stats.mode(_y[neigh_ind, k], axis=1)\n"
     ]
    },
    {
     "data": {
      "text/plain": [
       "array([0.65436902, 0.98537539, 0.99991894, 1.        , 0.99607563])"
      ]
     },
     "execution_count": 29,
     "metadata": {},
     "output_type": "execute_result"
    }
   ],
   "source": [
    "# setting up random.seed() method to help reproduce our results\n",
    "np.random.seed(26)\n",
    "\n",
    "# Classification using KNeighbours Classifier\n",
    "clf =  KNeighborsClassifier()\n",
    "val_scores = cross_val_score(clf, X, y, cv=5)\n",
    "val_scores"
   ]
  },
  {
   "cell_type": "code",
   "execution_count": 30,
   "id": "f322fed3",
   "metadata": {},
   "outputs": [
    {
     "data": {
      "text/plain": [
       "array([0.88387097, 0.97232434, 0.99274253, 0.99573707, 0.99365806])"
      ]
     },
     "execution_count": 30,
     "metadata": {},
     "output_type": "execute_result"
    }
   ],
   "source": [
    "# setting up random.seed() method to help reproduce our results\n",
    "np.random.seed(26)\n",
    "\n",
    "# Classification using Gaussian Naive's Bayes\n",
    "clf =  GaussianNB()\n",
    "val_scores = cross_val_score(clf, X, y, cv=5)\n",
    "val_scores"
   ]
  },
  {
   "cell_type": "code",
   "execution_count": 31,
   "id": "d2665bec",
   "metadata": {},
   "outputs": [
    {
     "data": {
      "text/plain": [
       "array([0.58310564, 0.86047731, 0.99953747, 0.99963284, 0.95812412])"
      ]
     },
     "execution_count": 31,
     "metadata": {},
     "output_type": "execute_result"
    }
   ],
   "source": [
    "# setting up random.seed() method to help reproduce our results\n",
    "np.random.seed(26)\n",
    "\n",
    "# Classification using Random Forest Classifier\n",
    "clf =  RandomForestClassifier()\n",
    "val_scores = cross_val_score(clf, X, y, cv=5)\n",
    "val_scores"
   ]
  },
  {
   "cell_type": "code",
   "execution_count": 32,
   "id": "62fbf62c",
   "metadata": {},
   "outputs": [
    {
     "name": "stdout",
     "output_type": "stream",
     "text": [
      "Counter({0: 799916, 1: 38944})\n",
      "Counter({0: 799916, 1: 799916})\n"
     ]
    }
   ],
   "source": [
    "# smote on training dataset\n",
    "from collections import Counter\n",
    "from sklearn.datasets import make_classification\n",
    "from imblearn.over_sampling import SMOTE\n",
    "from matplotlib import pyplot\n",
    "from numpy import where\n",
    "\n",
    "# summarize class distribution\n",
    "counter = Counter(y_train)\n",
    "print(counter)\n",
    "\n",
    "# transform the dataset\n",
    "oversample = SMOTE()\n",
    "X_train, y_train = oversample.fit_resample(X_train, y_train)\n",
    "\n",
    "# summarize the new class distribution\n",
    "counter = Counter(y_train)\n",
    "print(counter)"
   ]
  },
  {
   "cell_type": "code",
   "execution_count": 33,
   "id": "104bc72c",
   "metadata": {},
   "outputs": [
    {
     "data": {
      "text/plain": [
       "1599832"
      ]
     },
     "execution_count": 33,
     "metadata": {},
     "output_type": "execute_result"
    }
   ],
   "source": [
    "len(X_train)"
   ]
  },
  {
   "cell_type": "code",
   "execution_count": 34,
   "id": "0e97134a",
   "metadata": {},
   "outputs": [
    {
     "data": {
      "text/plain": [
       "1599832"
      ]
     },
     "execution_count": 34,
     "metadata": {},
     "output_type": "execute_result"
    }
   ],
   "source": [
    "len(y_train)"
   ]
  },
  {
   "cell_type": "code",
   "execution_count": 35,
   "id": "0df54e77",
   "metadata": {},
   "outputs": [
    {
     "data": {
      "text/plain": [
       "209715"
      ]
     },
     "execution_count": 35,
     "metadata": {},
     "output_type": "execute_result"
    }
   ],
   "source": [
    "len(X_test)"
   ]
  },
  {
   "cell_type": "code",
   "execution_count": 36,
   "id": "0899b3d9",
   "metadata": {},
   "outputs": [
    {
     "data": {
      "text/plain": [
       "209715"
      ]
     },
     "execution_count": 36,
     "metadata": {},
     "output_type": "execute_result"
    }
   ],
   "source": [
    "len(y_test)"
   ]
  },
  {
   "cell_type": "code",
   "execution_count": 37,
   "id": "2217cf1f",
   "metadata": {},
   "outputs": [
    {
     "data": {
      "text/plain": [
       "<AxesSubplot:>"
      ]
     },
     "execution_count": 37,
     "metadata": {},
     "output_type": "execute_result"
    },
    {
     "data": {
      "image/png": "[encoded data removed]",
      "text/plain": [
       "<Figure size 640x480 with 1 Axes>"
      ]
     },
     "metadata": {},
     "output_type": "display_data"
    }
   ],
   "source": [
    "y_train.value_counts().plot(kind=\"bar\", color=[\"green\",\"blue\"])"
   ]
  },
  {
   "cell_type": "code",
   "execution_count": 38,
   "id": "a8a90da7",
   "metadata": {},
   "outputs": [],
   "source": [
    "# Keeping classification models in a dictionary\n",
    "models = {\"Logistic Regression\": LogisticRegression(max_iter=7000),\n",
    "          \"KNN\": KNeighborsClassifier(n_neighbors=20),\n",
    "          \"Random Forest\": RandomForestClassifier(),\n",
    "          \"Gaussian Naive Bayes\": GaussianNB(),\n",
    "          \"Decision Tree Classifier\": DecisionTreeClassifier()\n",
    "         }\n",
    "\n",
    "# Creating a function to fit and score models\n",
    "def fit_and_score(models, X_train, X_test, y_train, y_test):\n",
    "    \"\"\"\n",
    "    Fitting and evaluating different classification models for supervised learning\n",
    "    models : dictionary of different scikit-learn machine learning classification models\n",
    "    X_train : training data with no labels\n",
    "    X_test : testing data with no labels\n",
    "    y_train : training labels\n",
    "    y_test : testing labels\n",
    "    \n",
    "   \"\"\" \n",
    "    # setting up random.seed() method to help reproduce our results\n",
    "    np.random.seed(26)\n",
    "    \n",
    "    #creating a dictionary to save the models score/accuracy\n",
    "    model_scores = {}\n",
    "    \n",
    "    #loop through models\n",
    "    for name, model in models.items():\n",
    "        # fitting the model to the data\n",
    "        model.fit(X_train,y_train)\n",
    "        # evaluating the model and appending its score to model_scores\n",
    "        model_scores[name] = model.score(X_test, y_test)\n",
    "    return model_scores   "
   ]
  },
  {
   "cell_type": "code",
   "execution_count": 39,
   "id": "7843b201",
   "metadata": {},
   "outputs": [
    {
     "name": "stderr",
     "output_type": "stream",
     "text": [
      "C:\\Users\\parth\\anaconda3\\lib\\site-packages\\sklearn\\neighbors\\_classification.py:228: FutureWarning: Unlike other reduction functions (e.g. `skew`, `kurtosis`), the default behavior of `mode` typically preserves the axis it acts along. In SciPy 1.11.0, this behavior will change: the default value of `keepdims` will become False, the `axis` over which the statistic is taken will be eliminated, and the value None will no longer be accepted. Set `keepdims` to True or False to avoid this warning.\n",
      "  mode, _ = stats.mode(_y[neigh_ind, k], axis=1)\n"
     ]
    },
    {
     "data": {
      "text/plain": [
       "{'Logistic Regression': 0.921855851989605,\n",
       " 'KNN': 0.999952316238705,\n",
       " 'Random Forest': 0.9999856948716115,\n",
       " 'Gaussian Naive Bayes': 0.9254941229764204,\n",
       " 'Decision Tree Classifier': 0.9999666213670935}"
      ]
     },
     "execution_count": 39,
     "metadata": {},
     "output_type": "execute_result"
    }
   ],
   "source": [
    "model_scores = fit_and_score(models=models,\n",
    "                             X_train=X_train,\n",
    "                             X_test=X_test,\n",
    "                             y_train=y_train,\n",
    "                             y_test=y_test)\n",
    "\n",
    "model_scores"
   ]
  },
  {
   "cell_type": "code",
   "execution_count": 40,
   "id": "0190f8ae",
   "metadata": {},
   "outputs": [
    {
     "name": "stdout",
     "output_type": "stream",
     "text": [
      "Counter({0: 999999, 1: 48576})\n",
      "Counter({0: 999999, 1: 999999})\n"
     ]
    }
   ],
   "source": [
    "# Resolving Oversampling on whole imbalanced dataset with SMOTE\n",
    "from collections import Counter\n",
    "from sklearn.datasets import make_classification\n",
    "from imblearn.over_sampling import SMOTE\n",
    "from matplotlib import pyplot\n",
    "from numpy import where\n",
    "\n",
    "# summarize class distribution\n",
    "counter = Counter(y)\n",
    "print(counter)\n",
    "\n",
    "# transform the dataset\n",
    "oversample = SMOTE()\n",
    "X, y = oversample.fit_resample(X, y)\n",
    "\n",
    "# summarize the new class distribution\n",
    "counter = Counter(y)\n",
    "print(counter)\n"
   ]
  },
  {
   "cell_type": "code",
   "execution_count": 41,
   "id": "fa2923d7",
   "metadata": {},
   "outputs": [
    {
     "data": {
      "text/plain": [
       "(               LST         X_Coor        Y_Coor  band1  band2  band3  band4  \\\n",
       " 0        23.794017  629719.886200  3.959150e+06   1449   1556   1750   1784   \n",
       " 1        23.794017  629679.886200  3.959140e+06   1269   1445   1598   1585   \n",
       " 2        21.481792  629689.886200  3.959140e+06   1286   1447   1562   1670   \n",
       " 3        21.481792  629699.886200  3.959140e+06   1310   1445   1601   1734   \n",
       " 4        21.481792  629709.886200  3.959140e+06   1365   1507   1703   1779   \n",
       " ...            ...            ...           ...    ...    ...    ...    ...   \n",
       " 1999993  17.820586  622703.660472  3.957025e+06   1586   1651   1683   1548   \n",
       " 1999994   1.096804  618963.126600  3.956888e+06   1826   1932   2088   1994   \n",
       " 1999995   3.286648  634382.513135  3.956985e+06   1974   1868   1986   1962   \n",
       " 1999996  -2.374113  628531.997075  3.957635e+06   1352   1364   1432   1420   \n",
       " 1999997   3.099260  628773.451567  3.957425e+06   1577   1595   1703   1697   \n",
       " \n",
       "          band5  band6  band7  band8  band9  band10  \n",
       " 0         1851   1934   1863   1918   2704    2719  \n",
       " 1         1718   1788   1856   1826   2592    2311  \n",
       " 2         1794   1882   1865   1875   2672    2427  \n",
       " 3         1839   1936   1892   1907   2719    2549  \n",
       " 4         1854   1951   1932   1925   2733    2674  \n",
       " ...        ...    ...    ...    ...    ...     ...  \n",
       " 1999993   1584   1611   1685   1570   1911    1952  \n",
       " 1999994   2018   2076   2082   1979   2422    1984  \n",
       " 1999995   1838   1799   1589   1606    467     422  \n",
       " 1999996   1431   1458   1350   1414   1733    1520  \n",
       " 1999997   1715   1730   1622   1662   2038    1617  \n",
       " \n",
       " [1999998 rows x 13 columns],\n",
       " 1999998)"
      ]
     },
     "execution_count": 41,
     "metadata": {},
     "output_type": "execute_result"
    }
   ],
   "source": [
    "X, len(X)"
   ]
  },
  {
   "cell_type": "code",
   "execution_count": 42,
   "id": "e5d76d22",
   "metadata": {},
   "outputs": [
    {
     "data": {
      "text/plain": [
       "(0          0\n",
       " 1          0\n",
       " 2          0\n",
       " 3          0\n",
       " 4          0\n",
       "           ..\n",
       " 1999993    1\n",
       " 1999994    1\n",
       " 1999995    1\n",
       " 1999996    1\n",
       " 1999997    1\n",
       " Name: label, Length: 1999998, dtype: int64,\n",
       " 1999998)"
      ]
     },
     "execution_count": 42,
     "metadata": {},
     "output_type": "execute_result"
    }
   ],
   "source": [
    "y, len(y)"
   ]
  },
  {
   "cell_type": "code",
   "execution_count": 43,
   "id": "6c0873ce",
   "metadata": {},
   "outputs": [
    {
     "data": {
      "text/plain": [
       "<AxesSubplot:>"
      ]
     },
     "execution_count": 43,
     "metadata": {},
     "output_type": "execute_result"
    },
    {
     "data": {
      "image/png": "[encoded data removed]",
      "text/plain": [
       "<Figure size 640x480 with 1 Axes>"
      ]
     },
     "metadata": {},
     "output_type": "display_data"
    }
   ],
   "source": [
    "y.value_counts().plot(kind=\"bar\", color=[\"green\",\"blue\"])"
   ]
  },
  {
   "cell_type": "code",
   "execution_count": 44,
   "id": "f748de96",
   "metadata": {},
   "outputs": [
    {
     "data": {
      "text/plain": [
       "array([0.8480925, 0.9972575, 0.99994  , 1.       , 0.999985 ])"
      ]
     },
     "execution_count": 44,
     "metadata": {},
     "output_type": "execute_result"
    }
   ],
   "source": [
    "# Setting up random.seed() method to help reproduce our results\n",
    "np.random.seed(26)\n",
    "\n",
    "# Classification using Decision Tree Classifier\n",
    "clf =  DecisionTreeClassifier()\n",
    "\n",
    "# Calculating Accuracy\n",
    "cv_accuracy = cross_val_score(clf, X, y, cv=5, scoring=\"accuracy\")\n",
    "cv_accuracy"
   ]
  },
  {
   "cell_type": "code",
   "execution_count": 45,
   "id": "9a249212",
   "metadata": {},
   "outputs": [
    {
     "data": {
      "text/plain": [
       "0.9690549999925"
      ]
     },
     "execution_count": 45,
     "metadata": {},
     "output_type": "execute_result"
    }
   ],
   "source": [
    "dt_cv_acc = np.mean(cv_accuracy)\n",
    "dt_cv_acc"
   ]
  },
  {
   "cell_type": "code",
   "execution_count": 46,
   "id": "ece26490",
   "metadata": {},
   "outputs": [
    {
     "data": {
      "text/plain": [
       "array([0.76731953, 0.99458935, 0.99987501, 1.        , 1.        ])"
      ]
     },
     "execution_count": 46,
     "metadata": {},
     "output_type": "execute_result"
    }
   ],
   "source": [
    "# Calculating Precision\n",
    "cv_precision = cross_val_score(clf,\n",
    "                              X,\n",
    "                              y,\n",
    "                              cv=5, \n",
    "                              scoring=\"precision\")\n",
    "cv_precision"
   ]
  },
  {
   "cell_type": "code",
   "execution_count": 47,
   "id": "30877ddf",
   "metadata": {},
   "outputs": [
    {
     "data": {
      "text/plain": [
       "0.9523567801484287"
      ]
     },
     "execution_count": 47,
     "metadata": {},
     "output_type": "execute_result"
    }
   ],
   "source": [
    "cv_pre = np.mean(cv_precision)\n",
    "cv_pre"
   ]
  },
  {
   "cell_type": "code",
   "execution_count": 48,
   "id": "3694bf2e",
   "metadata": {},
   "outputs": [
    {
     "data": {
      "text/plain": [
       "array([0.99999 , 0.999985, 0.99999 , 1.      , 0.99997 ])"
      ]
     },
     "execution_count": 48,
     "metadata": {},
     "output_type": "execute_result"
    }
   ],
   "source": [
    "# Calculating Recall\n",
    "cv_recall = cross_val_score(clf,\n",
    "                              X,\n",
    "                              y,\n",
    "                              cv=5, \n",
    "                              scoring=\"recall\")\n",
    "cv_recall"
   ]
  },
  {
   "cell_type": "code",
   "execution_count": 49,
   "id": "4ab8a0a5",
   "metadata": {},
   "outputs": [
    {
     "data": {
      "text/plain": [
       "0.999987"
      ]
     },
     "execution_count": 49,
     "metadata": {},
     "output_type": "execute_result"
    }
   ],
   "source": [
    "cv_rec = np.mean(cv_recall)\n",
    "cv_rec"
   ]
  },
  {
   "cell_type": "code",
   "execution_count": 50,
   "id": "3cd8a903",
   "metadata": {},
   "outputs": [
    {
     "data": {
      "text/plain": [
       "array([0.8747977 , 0.99728485, 0.9999425 , 0.9999975 , 0.999985  ])"
      ]
     },
     "execution_count": 50,
     "metadata": {},
     "output_type": "execute_result"
    }
   ],
   "source": [
    "# Calculating F1-Score\n",
    "cv_f1_score = cross_val_score(clf,\n",
    "                              X,\n",
    "                              y,\n",
    "                              cv=5, \n",
    "                              scoring=\"f1\")\n",
    "cv_f1_score"
   ]
  },
  {
   "cell_type": "code",
   "execution_count": 51,
   "id": "9c39cc7b",
   "metadata": {},
   "outputs": [
    {
     "data": {
      "text/plain": [
       "0.9744015109522437"
      ]
     },
     "execution_count": 51,
     "metadata": {},
     "output_type": "execute_result"
    }
   ],
   "source": [
    "cv_f1 = np.mean(cv_f1_score)\n",
    "cv_f1"
   ]
  },
  {
   "cell_type": "code",
   "execution_count": 52,
   "id": "22644143",
   "metadata": {},
   "outputs": [
    {
     "data": {
      "image/png": "[encoded data removed]",
      "text/plain": [
       "<Figure size 640x480 with 1 Axes>"
      ]
     },
     "metadata": {},
     "output_type": "display_data"
    }
   ],
   "source": [
    "# Visualizing cross-validated metrics \n",
    "cv_metrics = pd.DataFrame({\"Accuracy\" : dt_cv_acc,\n",
    "                           \"Precision\" : cv_pre,\n",
    "                           \"recall\" : cv_rec,\n",
    "                           \"F1-Score\" : cv_f1},\n",
    "                        index=[0])\n",
    "cv_metrics.T.plot.bar(title = \"classification metrics for Decision Tree Classifier\",\n",
    "                      legend = False);"
   ]
  },
  {
   "cell_type": "code",
   "execution_count": 53,
   "id": "3593b2c4",
   "metadata": {},
   "outputs": [
    {
     "data": {
      "text/plain": [
       "array([0.8467475 , 0.95653   , 0.9357225 , 0.98448996, 0.98683747])"
      ]
     },
     "execution_count": 53,
     "metadata": {},
     "output_type": "execute_result"
    }
   ],
   "source": [
    "np.random.seed(26)\n",
    "\n",
    "# Classification using Logistic Regression Classifier\n",
    "clf =  LogisticRegression(max_iter=7000)\n",
    "\n",
    "# Calculating Accuracy\n",
    "cv_accuracy = cross_val_score(clf, X, y, cv=5, scoring=\"accuracy\")\n",
    "cv_accuracy"
   ]
  },
  {
   "cell_type": "code",
   "execution_count": 54,
   "id": "a1825a70",
   "metadata": {},
   "outputs": [
    {
     "data": {
      "text/plain": [
       "0.9420654856637143"
      ]
     },
     "execution_count": 54,
     "metadata": {},
     "output_type": "execute_result"
    }
   ],
   "source": [
    "lr_cv_acc = np.mean(cv_accuracy)\n",
    "lr_cv_acc"
   ]
  },
  {
   "cell_type": "code",
   "execution_count": 55,
   "id": "e8ee774c",
   "metadata": {},
   "outputs": [
    {
     "data": {
      "text/plain": [
       "array([0.76722939, 0.92797949, 0.9015154 , 0.99224779, 0.99962028])"
      ]
     },
     "execution_count": 55,
     "metadata": {},
     "output_type": "execute_result"
    }
   ],
   "source": [
    "# Calculating Precision\n",
    "cv_precision = cross_val_score(clf,\n",
    "                              X,\n",
    "                              y,\n",
    "                              cv=5, \n",
    "                              scoring=\"precision\")\n",
    "cv_precision"
   ]
  },
  {
   "cell_type": "code",
   "execution_count": 56,
   "id": "68847983",
   "metadata": {},
   "outputs": [
    {
     "data": {
      "text/plain": [
       "0.9177184685759221"
      ]
     },
     "execution_count": 56,
     "metadata": {},
     "output_type": "execute_result"
    }
   ],
   "source": [
    "cv_pre = np.mean(cv_precision)\n",
    "cv_pre"
   ]
  },
  {
   "cell_type": "code",
   "execution_count": 57,
   "id": "5e18f613",
   "metadata": {},
   "outputs": [
    {
     "data": {
      "text/plain": [
       "array([0.99553   , 0.989885  , 0.97832   , 0.97660988, 0.974045  ])"
      ]
     },
     "execution_count": 57,
     "metadata": {},
     "output_type": "execute_result"
    }
   ],
   "source": [
    "# Calculating Recall\n",
    "cv_recall = cross_val_score(clf,\n",
    "                              X,\n",
    "                              y,\n",
    "                              cv=5, \n",
    "                              scoring=\"recall\")\n",
    "cv_recall"
   ]
  },
  {
   "cell_type": "code",
   "execution_count": 58,
   "id": "c5dd0a66",
   "metadata": {},
   "outputs": [
    {
     "data": {
      "text/plain": [
       "0.9828779766098832"
      ]
     },
     "execution_count": 58,
     "metadata": {},
     "output_type": "execute_result"
    }
   ],
   "source": [
    "cv_rec = np.mean(cv_recall)\n",
    "cv_rec"
   ]
  },
  {
   "cell_type": "code",
   "execution_count": 59,
   "id": "62b75cdd",
   "metadata": {},
   "outputs": [
    {
     "data": {
      "text/plain": [
       "array([0.86659572, 0.95793314, 0.93834869, 0.98436673, 0.98666694])"
      ]
     },
     "execution_count": 59,
     "metadata": {},
     "output_type": "execute_result"
    }
   ],
   "source": [
    "# Calculating F1-Score\n",
    "cv_f1_score = cross_val_score(clf,\n",
    "                              X,\n",
    "                              y,\n",
    "                              cv=5, \n",
    "                              scoring=\"f1\")\n",
    "cv_f1_score"
   ]
  },
  {
   "cell_type": "code",
   "execution_count": 60,
   "id": "ec3a79a4",
   "metadata": {},
   "outputs": [
    {
     "data": {
      "text/plain": [
       "0.9467822444363101"
      ]
     },
     "execution_count": 60,
     "metadata": {},
     "output_type": "execute_result"
    }
   ],
   "source": [
    "cv_f1 = np.mean(cv_f1_score)\n",
    "cv_f1\n"
   ]
  },
  {
   "cell_type": "code",
   "execution_count": 61,
   "id": "d9e38bf7",
   "metadata": {},
   "outputs": [
    {
     "data": {
      "image/png": "[encoded data removed]",
      "text/plain": [
       "<Figure size 640x480 with 1 Axes>"
      ]
     },
     "metadata": {},
     "output_type": "display_data"
    }
   ],
   "source": [
    "# Visualizing cross-validated metrics\n",
    "cv_metrics = pd.DataFrame({\"Accuracy\" : lr_cv_acc,\n",
    "                           \"Precision\" : cv_pre,\n",
    "                           \"recall\" : cv_rec,\n",
    "                           \"F1-Score\" : cv_f1},\n",
    "                        index=[0])\n",
    "cv_metrics.T.plot.bar(title = \" classification metrics\",\n",
    "                      legend = False);"
   ]
  },
  {
   "cell_type": "code",
   "execution_count": 62,
   "id": "b44ea857",
   "metadata": {},
   "outputs": [
    {
     "name": "stderr",
     "output_type": "stream",
     "text": [
      "C:\\Users\\parth\\anaconda3\\lib\\site-packages\\sklearn\\neighbors\\_classification.py:228: FutureWarning: Unlike other reduction functions (e.g. `skew`, `kurtosis`), the default behavior of `mode` typically preserves the axis it acts along. In SciPy 1.11.0, this behavior will change: the default value of `keepdims` will become False, the `axis` over which the statistic is taken will be eliminated, and the value None will no longer be accepted. Set `keepdims` to True or False to avoid this warning.\n",
      "  mode, _ = stats.mode(_y[neigh_ind, k], axis=1)\n",
      "C:\\Users\\parth\\anaconda3\\lib\\site-packages\\sklearn\\neighbors\\_classification.py:228: FutureWarning: Unlike other reduction functions (e.g. `skew`, `kurtosis`), the default behavior of `mode` typically preserves the axis it acts along. In SciPy 1.11.0, this behavior will change: the default value of `keepdims` will become False, the `axis` over which the statistic is taken will be eliminated, and the value None will no longer be accepted. Set `keepdims` to True or False to avoid this warning.\n",
      "  mode, _ = stats.mode(_y[neigh_ind, k], axis=1)\n",
      "C:\\Users\\parth\\anaconda3\\lib\\site-packages\\sklearn\\neighbors\\_classification.py:228: FutureWarning: Unlike other reduction functions (e.g. `skew`, `kurtosis`), the default behavior of `mode` typically preserves the axis it acts along. In SciPy 1.11.0, this behavior will change: the default value of `keepdims` will become False, the `axis` over which the statistic is taken will be eliminated, and the value None will no longer be accepted. Set `keepdims` to True or False to avoid this warning.\n",
      "  mode, _ = stats.mode(_y[neigh_ind, k], axis=1)\n",
      "C:\\Users\\parth\\anaconda3\\lib\\site-packages\\sklearn\\neighbors\\_classification.py:228: FutureWarning: Unlike other reduction functions (e.g. `skew`, `kurtosis`), the default behavior of `mode` typically preserves the axis it acts along. In SciPy 1.11.0, this behavior will change: the default value of `keepdims` will become False, the `axis` over which the statistic is taken will be eliminated, and the value None will no longer be accepted. Set `keepdims` to True or False to avoid this warning.\n",
      "  mode, _ = stats.mode(_y[neigh_ind, k], axis=1)\n",
      "C:\\Users\\parth\\anaconda3\\lib\\site-packages\\sklearn\\neighbors\\_classification.py:228: FutureWarning: Unlike other reduction functions (e.g. `skew`, `kurtosis`), the default behavior of `mode` typically preserves the axis it acts along. In SciPy 1.11.0, this behavior will change: the default value of `keepdims` will become False, the `axis` over which the statistic is taken will be eliminated, and the value None will no longer be accepted. Set `keepdims` to True or False to avoid this warning.\n",
      "  mode, _ = stats.mode(_y[neigh_ind, k], axis=1)\n"
     ]
    },
    {
     "data": {
      "text/plain": [
       "array([0.803335, 0.98918 , 1.      , 1.      , 1.      ])"
      ]
     },
     "execution_count": 62,
     "metadata": {},
     "output_type": "execute_result"
    }
   ],
   "source": [
    "# setting up random.seed() method to help reproduce our results\n",
    "np.random.seed(26)\n",
    "\n",
    "# Classification using KNeighbours Classifier\n",
    "clf =  KNeighborsClassifier(n_neighbors=20)\n",
    "\n",
    "# Calculating Accuracy\n",
    "cv_accuracy = cross_val_score(clf, X, y, cv=5, scoring=\"accuracy\")\n",
    "cv_accuracy"
   ]
  },
  {
   "cell_type": "code",
   "execution_count": 63,
   "id": "4d0874cd",
   "metadata": {},
   "outputs": [
    {
     "data": {
      "text/plain": [
       "0.958503"
      ]
     },
     "execution_count": 63,
     "metadata": {},
     "output_type": "execute_result"
    }
   ],
   "source": [
    "knn_cv_acc = np.mean(cv_accuracy)\n",
    "knn_cv_acc"
   ]
  },
  {
   "cell_type": "code",
   "execution_count": 64,
   "id": "c836656e",
   "metadata": {},
   "outputs": [
    {
     "name": "stderr",
     "output_type": "stream",
     "text": [
      "C:\\Users\\parth\\anaconda3\\lib\\site-packages\\sklearn\\neighbors\\_classification.py:228: FutureWarning: Unlike other reduction functions (e.g. `skew`, `kurtosis`), the default behavior of `mode` typically preserves the axis it acts along. In SciPy 1.11.0, this behavior will change: the default value of `keepdims` will become False, the `axis` over which the statistic is taken will be eliminated, and the value None will no longer be accepted. Set `keepdims` to True or False to avoid this warning.\n",
      "  mode, _ = stats.mode(_y[neigh_ind, k], axis=1)\n",
      "C:\\Users\\parth\\anaconda3\\lib\\site-packages\\sklearn\\neighbors\\_classification.py:228: FutureWarning: Unlike other reduction functions (e.g. `skew`, `kurtosis`), the default behavior of `mode` typically preserves the axis it acts along. In SciPy 1.11.0, this behavior will change: the default value of `keepdims` will become False, the `axis` over which the statistic is taken will be eliminated, and the value None will no longer be accepted. Set `keepdims` to True or False to avoid this warning.\n",
      "  mode, _ = stats.mode(_y[neigh_ind, k], axis=1)\n",
      "C:\\Users\\parth\\anaconda3\\lib\\site-packages\\sklearn\\neighbors\\_classification.py:228: FutureWarning: Unlike other reduction functions (e.g. `skew`, `kurtosis`), the default behavior of `mode` typically preserves the axis it acts along. In SciPy 1.11.0, this behavior will change: the default value of `keepdims` will become False, the `axis` over which the statistic is taken will be eliminated, and the value None will no longer be accepted. Set `keepdims` to True or False to avoid this warning.\n",
      "  mode, _ = stats.mode(_y[neigh_ind, k], axis=1)\n",
      "C:\\Users\\parth\\anaconda3\\lib\\site-packages\\sklearn\\neighbors\\_classification.py:228: FutureWarning: Unlike other reduction functions (e.g. `skew`, `kurtosis`), the default behavior of `mode` typically preserves the axis it acts along. In SciPy 1.11.0, this behavior will change: the default value of `keepdims` will become False, the `axis` over which the statistic is taken will be eliminated, and the value None will no longer be accepted. Set `keepdims` to True or False to avoid this warning.\n",
      "  mode, _ = stats.mode(_y[neigh_ind, k], axis=1)\n",
      "C:\\Users\\parth\\anaconda3\\lib\\site-packages\\sklearn\\neighbors\\_classification.py:228: FutureWarning: Unlike other reduction functions (e.g. `skew`, `kurtosis`), the default behavior of `mode` typically preserves the axis it acts along. In SciPy 1.11.0, this behavior will change: the default value of `keepdims` will become False, the `axis` over which the statistic is taken will be eliminated, and the value None will no longer be accepted. Set `keepdims` to True or False to avoid this warning.\n",
      "  mode, _ = stats.mode(_y[neigh_ind, k], axis=1)\n"
     ]
    },
    {
     "data": {
      "text/plain": [
       "array([0.71770507, 0.97881837, 1.        , 1.        , 1.        ])"
      ]
     },
     "execution_count": 64,
     "metadata": {},
     "output_type": "execute_result"
    }
   ],
   "source": [
    "# Calculating Precision\n",
    "cv_precision = cross_val_score(clf,\n",
    "                              X,\n",
    "                              y,\n",
    "                              cv=5, \n",
    "                              scoring=\"precision\")\n",
    "cv_precision"
   ]
  },
  {
   "cell_type": "code",
   "execution_count": 65,
   "id": "95b074a4",
   "metadata": {},
   "outputs": [
    {
     "data": {
      "text/plain": [
       "0.9393046873486479"
      ]
     },
     "execution_count": 65,
     "metadata": {},
     "output_type": "execute_result"
    }
   ],
   "source": [
    "cv_pre = np.mean(cv_precision)\n",
    "cv_pre"
   ]
  },
  {
   "cell_type": "code",
   "execution_count": 66,
   "id": "b9ebb4a4",
   "metadata": {},
   "outputs": [
    {
     "name": "stderr",
     "output_type": "stream",
     "text": [
      "C:\\Users\\parth\\anaconda3\\lib\\site-packages\\sklearn\\neighbors\\_classification.py:228: FutureWarning: Unlike other reduction functions (e.g. `skew`, `kurtosis`), the default behavior of `mode` typically preserves the axis it acts along. In SciPy 1.11.0, this behavior will change: the default value of `keepdims` will become False, the `axis` over which the statistic is taken will be eliminated, and the value None will no longer be accepted. Set `keepdims` to True or False to avoid this warning.\n",
      "  mode, _ = stats.mode(_y[neigh_ind, k], axis=1)\n",
      "C:\\Users\\parth\\anaconda3\\lib\\site-packages\\sklearn\\neighbors\\_classification.py:228: FutureWarning: Unlike other reduction functions (e.g. `skew`, `kurtosis`), the default behavior of `mode` typically preserves the axis it acts along. In SciPy 1.11.0, this behavior will change: the default value of `keepdims` will become False, the `axis` over which the statistic is taken will be eliminated, and the value None will no longer be accepted. Set `keepdims` to True or False to avoid this warning.\n",
      "  mode, _ = stats.mode(_y[neigh_ind, k], axis=1)\n",
      "C:\\Users\\parth\\anaconda3\\lib\\site-packages\\sklearn\\neighbors\\_classification.py:228: FutureWarning: Unlike other reduction functions (e.g. `skew`, `kurtosis`), the default behavior of `mode` typically preserves the axis it acts along. In SciPy 1.11.0, this behavior will change: the default value of `keepdims` will become False, the `axis` over which the statistic is taken will be eliminated, and the value None will no longer be accepted. Set `keepdims` to True or False to avoid this warning.\n",
      "  mode, _ = stats.mode(_y[neigh_ind, k], axis=1)\n",
      "C:\\Users\\parth\\anaconda3\\lib\\site-packages\\sklearn\\neighbors\\_classification.py:228: FutureWarning: Unlike other reduction functions (e.g. `skew`, `kurtosis`), the default behavior of `mode` typically preserves the axis it acts along. In SciPy 1.11.0, this behavior will change: the default value of `keepdims` will become False, the `axis` over which the statistic is taken will be eliminated, and the value None will no longer be accepted. Set `keepdims` to True or False to avoid this warning.\n",
      "  mode, _ = stats.mode(_y[neigh_ind, k], axis=1)\n",
      "C:\\Users\\parth\\anaconda3\\lib\\site-packages\\sklearn\\neighbors\\_classification.py:228: FutureWarning: Unlike other reduction functions (e.g. `skew`, `kurtosis`), the default behavior of `mode` typically preserves the axis it acts along. In SciPy 1.11.0, this behavior will change: the default value of `keepdims` will become False, the `axis` over which the statistic is taken will be eliminated, and the value None will no longer be accepted. Set `keepdims` to True or False to avoid this warning.\n",
      "  mode, _ = stats.mode(_y[neigh_ind, k], axis=1)\n",
      "ERROR:root:Internal Python error in the inspect module.\n",
      "Below is the traceback from this internal error.\n",
      "\n"
     ]
    },
    {
     "name": "stdout",
     "output_type": "stream",
     "text": [
      "Traceback (most recent call last):\n",
      "  File \"C:\\Users\\parth\\anaconda3\\lib\\site-packages\\IPython\\core\\interactiveshell.py\", line 3457, in run_code\n",
      "    exec(code_obj, self.user_global_ns, self.user_ns)\n",
      "  File \"C:\\Users\\parth\\AppData\\Local\\Temp\\ipykernel_14436\\3586156727.py\", line 2, in <module>\n",
      "    cv_recall = cross_val_score(clf,\n",
      "  File \"C:\\Users\\parth\\anaconda3\\lib\\site-packages\\sklearn\\model_selection\\_validation.py\", line 509, in cross_val_score\n",
      "    cv_results = cross_validate(\n",
      "  File \"C:\\Users\\parth\\anaconda3\\lib\\site-packages\\sklearn\\model_selection\\_validation.py\", line 267, in cross_validate\n",
      "    results = parallel(\n",
      "  File \"C:\\Users\\parth\\anaconda3\\lib\\site-packages\\joblib\\parallel.py\", line 1046, in __call__\n",
      "    while self.dispatch_one_batch(iterator):\n",
      "  File \"C:\\Users\\parth\\anaconda3\\lib\\site-packages\\joblib\\parallel.py\", line 861, in dispatch_one_batch\n",
      "    self._dispatch(tasks)\n",
      "  File \"C:\\Users\\parth\\anaconda3\\lib\\site-packages\\joblib\\parallel.py\", line 779, in _dispatch\n",
      "    job = self._backend.apply_async(batch, callback=cb)\n",
      "  File \"C:\\Users\\parth\\anaconda3\\lib\\site-packages\\joblib\\_parallel_backends.py\", line 208, in apply_async\n",
      "    result = ImmediateResult(func)\n",
      "  File \"C:\\Users\\parth\\anaconda3\\lib\\site-packages\\joblib\\_parallel_backends.py\", line 572, in __init__\n",
      "    self.results = batch()\n",
      "  File \"C:\\Users\\parth\\anaconda3\\lib\\site-packages\\joblib\\parallel.py\", line 262, in __call__\n",
      "    return [func(*args, **kwargs)\n",
      "  File \"C:\\Users\\parth\\anaconda3\\lib\\site-packages\\joblib\\parallel.py\", line 262, in <listcomp>\n",
      "    return [func(*args, **kwargs)\n",
      "  File \"C:\\Users\\parth\\anaconda3\\lib\\site-packages\\sklearn\\utils\\fixes.py\", line 216, in __call__\n",
      "    return self.function(*args, **kwargs)\n",
      "  File \"C:\\Users\\parth\\anaconda3\\lib\\site-packages\\sklearn\\model_selection\\_validation.py\", line 702, in _fit_and_score\n",
      "    test_scores = _score(estimator, X_test, y_test, scorer, error_score)\n",
      "  File \"C:\\Users\\parth\\anaconda3\\lib\\site-packages\\sklearn\\model_selection\\_validation.py\", line 761, in _score\n",
      "    scores = scorer(estimator, X_test, y_test)\n",
      "  File \"C:\\Users\\parth\\anaconda3\\lib\\site-packages\\sklearn\\metrics\\_scorer.py\", line 103, in __call__\n",
      "    score = scorer._score(cached_call, estimator, *args, **kwargs)\n",
      "  File \"C:\\Users\\parth\\anaconda3\\lib\\site-packages\\sklearn\\metrics\\_scorer.py\", line 258, in _score\n",
      "    y_pred = method_caller(estimator, \"predict\", X)\n",
      "  File \"C:\\Users\\parth\\anaconda3\\lib\\site-packages\\sklearn\\metrics\\_scorer.py\", line 68, in _cached_call\n",
      "    return getattr(estimator, method)(*args, **kwargs)\n",
      "  File \"C:\\Users\\parth\\anaconda3\\lib\\site-packages\\sklearn\\neighbors\\_classification.py\", line 228, in predict\n",
      "    mode, _ = stats.mode(_y[neigh_ind, k], axis=1)\n",
      "  File \"C:\\Users\\parth\\anaconda3\\lib\\site-packages\\scipy\\stats\\_stats_py.py\", line 675, in mode\n",
      "    modes[ind], counts[ind] = _mode1D(a_view[ind])\n",
      "  File \"C:\\Users\\parth\\anaconda3\\lib\\site-packages\\scipy\\stats\\_stats_py.py\", line 662, in _mode1D\n",
      "    vals, cnts = np.unique(a, return_counts=True)\n",
      "  File \"<__array_function__ internals>\", line 5, in unique\n",
      "  File \"C:\\Users\\parth\\anaconda3\\lib\\site-packages\\numpy\\lib\\arraysetops.py\", line 272, in unique\n",
      "    ret = _unique1d(ar, return_index, return_inverse, return_counts)\n",
      "  File \"C:\\Users\\parth\\anaconda3\\lib\\site-packages\\numpy\\lib\\arraysetops.py\", line 333, in _unique1d\n",
      "    ar.sort()\n",
      "KeyboardInterrupt\n",
      "\n",
      "During handling of the above exception, another exception occurred:\n",
      "\n",
      "Traceback (most recent call last):\n",
      "  File \"C:\\Users\\parth\\anaconda3\\lib\\site-packages\\IPython\\core\\interactiveshell.py\", line 2077, in showtraceback\n",
      "    stb = value._render_traceback_()\n",
      "AttributeError: 'KeyboardInterrupt' object has no attribute '_render_traceback_'\n",
      "\n",
      "During handling of the above exception, another exception occurred:\n",
      "\n",
      "Traceback (most recent call last):\n",
      "  File \"C:\\Users\\parth\\anaconda3\\lib\\site-packages\\IPython\\core\\ultratb.py\", line 1101, in get_records\n",
      "    return _fixed_getinnerframes(etb, number_of_lines_of_context, tb_offset)\n",
      "  File \"C:\\Users\\parth\\anaconda3\\lib\\site-packages\\IPython\\core\\ultratb.py\", line 248, in wrapped\n",
      "    return f(*args, **kwargs)\n",
      "  File \"C:\\Users\\parth\\anaconda3\\lib\\site-packages\\IPython\\core\\ultratb.py\", line 281, in _fixed_getinnerframes\n",
      "    records = fix_frame_records_filenames(inspect.getinnerframes(etb, context))\n",
      "  File \"C:\\Users\\parth\\anaconda3\\lib\\inspect.py\", line 1543, in getinnerframes\n",
      "    frameinfo = (tb.tb_frame,) + getframeinfo(tb, context)\n",
      "  File \"C:\\Users\\parth\\anaconda3\\lib\\inspect.py\", line 1501, in getframeinfo\n",
      "    filename = getsourcefile(frame) or getfile(frame)\n",
      "  File \"C:\\Users\\parth\\anaconda3\\lib\\inspect.py\", line 709, in getsourcefile\n",
      "    if getattr(getmodule(object, filename), '__loader__', None) is not None:\n",
      "  File \"C:\\Users\\parth\\anaconda3\\lib\\inspect.py\", line 745, in getmodule\n",
      "    for modname, module in sys.modules.copy().items():\n",
      "KeyboardInterrupt\n"
     ]
    },
    {
     "ename": "TypeError",
     "evalue": "object of type 'NoneType' has no len()",
     "output_type": "error",
     "traceback": [
      "\u001b[1;31m---------------------------------------------------------------------------\u001b[0m",
      "\u001b[1;31mKeyboardInterrupt\u001b[0m                         Traceback (most recent call last)",
      "    \u001b[1;31m[... skipping hidden 1 frame]\u001b[0m\n",
      "\u001b[1;32m~\\AppData\\Local\\Temp\\ipykernel_14436\\3586156727.py\u001b[0m in \u001b[0;36m<module>\u001b[1;34m\u001b[0m\n\u001b[0;32m      1\u001b[0m \u001b[1;31m# Calculating Recall\u001b[0m\u001b[1;33m\u001b[0m\u001b[1;33m\u001b[0m\u001b[0m\n\u001b[1;32m----> 2\u001b[1;33m cv_recall = cross_val_score(clf,\n\u001b[0m\u001b[0;32m      3\u001b[0m                               \u001b[0mX\u001b[0m\u001b[1;33m,\u001b[0m\u001b[1;33m\u001b[0m\u001b[1;33m\u001b[0m\u001b[0m\n",
      "\u001b[1;32m~\\anaconda3\\lib\\site-packages\\sklearn\\model_selection\\_validation.py\u001b[0m in \u001b[0;36mcross_val_score\u001b[1;34m(estimator, X, y, groups, scoring, cv, n_jobs, verbose, fit_params, pre_dispatch, error_score)\u001b[0m\n\u001b[0;32m    508\u001b[0m \u001b[1;33m\u001b[0m\u001b[0m\n\u001b[1;32m--> 509\u001b[1;33m     cv_results = cross_validate(\n\u001b[0m\u001b[0;32m    510\u001b[0m         \u001b[0mestimator\u001b[0m\u001b[1;33m=\u001b[0m\u001b[0mestimator\u001b[0m\u001b[1;33m,\u001b[0m\u001b[1;33m\u001b[0m\u001b[1;33m\u001b[0m\u001b[0m\n",
      "\u001b[1;32m~\\anaconda3\\lib\\site-packages\\sklearn\\model_selection\\_validation.py\u001b[0m in \u001b[0;36mcross_validate\u001b[1;34m(estimator, X, y, groups, scoring, cv, n_jobs, verbose, fit_params, pre_dispatch, return_train_score, return_estimator, error_score)\u001b[0m\n\u001b[0;32m    266\u001b[0m     \u001b[0mparallel\u001b[0m \u001b[1;33m=\u001b[0m \u001b[0mParallel\u001b[0m\u001b[1;33m(\u001b[0m\u001b[0mn_jobs\u001b[0m\u001b[1;33m=\u001b[0m\u001b[0mn_jobs\u001b[0m\u001b[1;33m,\u001b[0m \u001b[0mverbose\u001b[0m\u001b[1;33m=\u001b[0m\u001b[0mverbose\u001b[0m\u001b[1;33m,\u001b[0m \u001b[0mpre_dispatch\u001b[0m\u001b[1;33m=\u001b[0m\u001b[0mpre_dispatch\u001b[0m\u001b[1;33m)\u001b[0m\u001b[1;33m\u001b[0m\u001b[1;33m\u001b[0m\u001b[0m\n\u001b[1;32m--> 267\u001b[1;33m     results = parallel(\n\u001b[0m\u001b[0;32m    268\u001b[0m         delayed(_fit_and_score)(\n",
      "\u001b[1;32m~\\anaconda3\\lib\\site-packages\\joblib\\parallel.py\u001b[0m in \u001b[0;36m__call__\u001b[1;34m(self, iterable)\u001b[0m\n\u001b[0;32m   1045\u001b[0m \u001b[1;33m\u001b[0m\u001b[0m\n\u001b[1;32m-> 1046\u001b[1;33m             \u001b[1;32mwhile\u001b[0m \u001b[0mself\u001b[0m\u001b[1;33m.\u001b[0m\u001b[0mdispatch_one_batch\u001b[0m\u001b[1;33m(\u001b[0m\u001b[0miterator\u001b[0m\u001b[1;33m)\u001b[0m\u001b[1;33m:\u001b[0m\u001b[1;33m\u001b[0m\u001b[1;33m\u001b[0m\u001b[0m\n\u001b[0m\u001b[0;32m   1047\u001b[0m                 \u001b[1;32mpass\u001b[0m\u001b[1;33m\u001b[0m\u001b[1;33m\u001b[0m\u001b[0m\n",
      "\u001b[1;32m~\\anaconda3\\lib\\site-packages\\joblib\\parallel.py\u001b[0m in \u001b[0;36mdispatch_one_batch\u001b[1;34m(self, iterator)\u001b[0m\n\u001b[0;32m    860\u001b[0m             \u001b[1;32melse\u001b[0m\u001b[1;33m:\u001b[0m\u001b[1;33m\u001b[0m\u001b[1;33m\u001b[0m\u001b[0m\n\u001b[1;32m--> 861\u001b[1;33m                 \u001b[0mself\u001b[0m\u001b[1;33m.\u001b[0m\u001b[0m_dispatch\u001b[0m\u001b[1;33m(\u001b[0m\u001b[0mtasks\u001b[0m\u001b[1;33m)\u001b[0m\u001b[1;33m\u001b[0m\u001b[1;33m\u001b[0m\u001b[0m\n\u001b[0m\u001b[0;32m    862\u001b[0m                 \u001b[1;32mreturn\u001b[0m \u001b[1;32mTrue\u001b[0m\u001b[1;33m\u001b[0m\u001b[1;33m\u001b[0m\u001b[0m\n",
      "\u001b[1;32m~\\anaconda3\\lib\\site-packages\\joblib\\parallel.py\u001b[0m in \u001b[0;36m_dispatch\u001b[1;34m(self, batch)\u001b[0m\n\u001b[0;32m    778\u001b[0m             \u001b[0mjob_idx\u001b[0m \u001b[1;33m=\u001b[0m \u001b[0mlen\u001b[0m\u001b[1;33m(\u001b[0m\u001b[0mself\u001b[0m\u001b[1;33m.\u001b[0m\u001b[0m_jobs\u001b[0m\u001b[1;33m)\u001b[0m\u001b[1;33m\u001b[0m\u001b[1;33m\u001b[0m\u001b[0m\n\u001b[1;32m--> 779\u001b[1;33m             \u001b[0mjob\u001b[0m \u001b[1;33m=\u001b[0m \u001b[0mself\u001b[0m\u001b[1;33m.\u001b[0m\u001b[0m_backend\u001b[0m\u001b[1;33m.\u001b[0m\u001b[0mapply_async\u001b[0m\u001b[1;33m(\u001b[0m\u001b[0mbatch\u001b[0m\u001b[1;33m,\u001b[0m \u001b[0mcallback\u001b[0m\u001b[1;33m=\u001b[0m\u001b[0mcb\u001b[0m\u001b[1;33m)\u001b[0m\u001b[1;33m\u001b[0m\u001b[1;33m\u001b[0m\u001b[0m\n\u001b[0m\u001b[0;32m    780\u001b[0m             \u001b[1;31m# A job can complete so quickly than its callback is\u001b[0m\u001b[1;33m\u001b[0m\u001b[1;33m\u001b[0m\u001b[0m\n",
      "\u001b[1;32m~\\anaconda3\\lib\\site-packages\\joblib\\_parallel_backends.py\u001b[0m in \u001b[0;36mapply_async\u001b[1;34m(self, func, callback)\u001b[0m\n\u001b[0;32m    207\u001b[0m         \u001b[1;34m\"\"\"Schedule a func to be run\"\"\"\u001b[0m\u001b[1;33m\u001b[0m\u001b[1;33m\u001b[0m\u001b[0m\n\u001b[1;32m--> 208\u001b[1;33m         \u001b[0mresult\u001b[0m \u001b[1;33m=\u001b[0m \u001b[0mImmediateResult\u001b[0m\u001b[1;33m(\u001b[0m\u001b[0mfunc\u001b[0m\u001b[1;33m)\u001b[0m\u001b[1;33m\u001b[0m\u001b[1;33m\u001b[0m\u001b[0m\n\u001b[0m\u001b[0;32m    209\u001b[0m         \u001b[1;32mif\u001b[0m \u001b[0mcallback\u001b[0m\u001b[1;33m:\u001b[0m\u001b[1;33m\u001b[0m\u001b[1;33m\u001b[0m\u001b[0m\n",
      "\u001b[1;32m~\\anaconda3\\lib\\site-packages\\joblib\\_parallel_backends.py\u001b[0m in \u001b[0;36m__init__\u001b[1;34m(self, batch)\u001b[0m\n\u001b[0;32m    571\u001b[0m         \u001b[1;31m# arguments in memory\u001b[0m\u001b[1;33m\u001b[0m\u001b[1;33m\u001b[0m\u001b[0m\n\u001b[1;32m--> 572\u001b[1;33m         \u001b[0mself\u001b[0m\u001b[1;33m.\u001b[0m\u001b[0mresults\u001b[0m \u001b[1;33m=\u001b[0m \u001b[0mbatch\u001b[0m\u001b[1;33m(\u001b[0m\u001b[1;33m)\u001b[0m\u001b[1;33m\u001b[0m\u001b[1;33m\u001b[0m\u001b[0m\n\u001b[0m\u001b[0;32m    573\u001b[0m \u001b[1;33m\u001b[0m\u001b[0m\n",
      "\u001b[1;32m~\\anaconda3\\lib\\site-packages\\joblib\\parallel.py\u001b[0m in \u001b[0;36m__call__\u001b[1;34m(self)\u001b[0m\n\u001b[0;32m    261\u001b[0m         \u001b[1;32mwith\u001b[0m \u001b[0mparallel_backend\u001b[0m\u001b[1;33m(\u001b[0m\u001b[0mself\u001b[0m\u001b[1;33m.\u001b[0m\u001b[0m_backend\u001b[0m\u001b[1;33m,\u001b[0m \u001b[0mn_jobs\u001b[0m\u001b[1;33m=\u001b[0m\u001b[0mself\u001b[0m\u001b[1;33m.\u001b[0m\u001b[0m_n_jobs\u001b[0m\u001b[1;33m)\u001b[0m\u001b[1;33m:\u001b[0m\u001b[1;33m\u001b[0m\u001b[1;33m\u001b[0m\u001b[0m\n\u001b[1;32m--> 262\u001b[1;33m             return [func(*args, **kwargs)\n\u001b[0m\u001b[0;32m    263\u001b[0m                     for func, args, kwargs in self.items]\n",
      "\u001b[1;32m~\\anaconda3\\lib\\site-packages\\joblib\\parallel.py\u001b[0m in \u001b[0;36m<listcomp>\u001b[1;34m(.0)\u001b[0m\n\u001b[0;32m    261\u001b[0m         \u001b[1;32mwith\u001b[0m \u001b[0mparallel_backend\u001b[0m\u001b[1;33m(\u001b[0m\u001b[0mself\u001b[0m\u001b[1;33m.\u001b[0m\u001b[0m_backend\u001b[0m\u001b[1;33m,\u001b[0m \u001b[0mn_jobs\u001b[0m\u001b[1;33m=\u001b[0m\u001b[0mself\u001b[0m\u001b[1;33m.\u001b[0m\u001b[0m_n_jobs\u001b[0m\u001b[1;33m)\u001b[0m\u001b[1;33m:\u001b[0m\u001b[1;33m\u001b[0m\u001b[1;33m\u001b[0m\u001b[0m\n\u001b[1;32m--> 262\u001b[1;33m             return [func(*args, **kwargs)\n\u001b[0m\u001b[0;32m    263\u001b[0m                     for func, args, kwargs in self.items]\n",
      "\u001b[1;32m~\\anaconda3\\lib\\site-packages\\sklearn\\utils\\fixes.py\u001b[0m in \u001b[0;36m__call__\u001b[1;34m(self, *args, **kwargs)\u001b[0m\n\u001b[0;32m    215\u001b[0m         \u001b[1;32mwith\u001b[0m \u001b[0mconfig_context\u001b[0m\u001b[1;33m(\u001b[0m\u001b[1;33m**\u001b[0m\u001b[0mself\u001b[0m\u001b[1;33m.\u001b[0m\u001b[0mconfig\u001b[0m\u001b[1;33m)\u001b[0m\u001b[1;33m:\u001b[0m\u001b[1;33m\u001b[0m\u001b[1;33m\u001b[0m\u001b[0m\n\u001b[1;32m--> 216\u001b[1;33m             \u001b[1;32mreturn\u001b[0m \u001b[0mself\u001b[0m\u001b[1;33m.\u001b[0m\u001b[0mfunction\u001b[0m\u001b[1;33m(\u001b[0m\u001b[1;33m*\u001b[0m\u001b[0margs\u001b[0m\u001b[1;33m,\u001b[0m \u001b[1;33m**\u001b[0m\u001b[0mkwargs\u001b[0m\u001b[1;33m)\u001b[0m\u001b[1;33m\u001b[0m\u001b[1;33m\u001b[0m\u001b[0m\n\u001b[0m\u001b[0;32m    217\u001b[0m \u001b[1;33m\u001b[0m\u001b[0m\n",
      "\u001b[1;32m~\\anaconda3\\lib\\site-packages\\sklearn\\model_selection\\_validation.py\u001b[0m in \u001b[0;36m_fit_and_score\u001b[1;34m(estimator, X, y, scorer, train, test, verbose, parameters, fit_params, return_train_score, return_parameters, return_n_test_samples, return_times, return_estimator, split_progress, candidate_progress, error_score)\u001b[0m\n\u001b[0;32m    701\u001b[0m         \u001b[0mfit_time\u001b[0m \u001b[1;33m=\u001b[0m \u001b[0mtime\u001b[0m\u001b[1;33m.\u001b[0m\u001b[0mtime\u001b[0m\u001b[1;33m(\u001b[0m\u001b[1;33m)\u001b[0m \u001b[1;33m-\u001b[0m \u001b[0mstart_time\u001b[0m\u001b[1;33m\u001b[0m\u001b[1;33m\u001b[0m\u001b[0m\n\u001b[1;32m--> 702\u001b[1;33m         \u001b[0mtest_scores\u001b[0m \u001b[1;33m=\u001b[0m \u001b[0m_score\u001b[0m\u001b[1;33m(\u001b[0m\u001b[0mestimator\u001b[0m\u001b[1;33m,\u001b[0m \u001b[0mX_test\u001b[0m\u001b[1;33m,\u001b[0m \u001b[0my_test\u001b[0m\u001b[1;33m,\u001b[0m \u001b[0mscorer\u001b[0m\u001b[1;33m,\u001b[0m \u001b[0merror_score\u001b[0m\u001b[1;33m)\u001b[0m\u001b[1;33m\u001b[0m\u001b[1;33m\u001b[0m\u001b[0m\n\u001b[0m\u001b[0;32m    703\u001b[0m         \u001b[0mscore_time\u001b[0m \u001b[1;33m=\u001b[0m \u001b[0mtime\u001b[0m\u001b[1;33m.\u001b[0m\u001b[0mtime\u001b[0m\u001b[1;33m(\u001b[0m\u001b[1;33m)\u001b[0m \u001b[1;33m-\u001b[0m \u001b[0mstart_time\u001b[0m \u001b[1;33m-\u001b[0m \u001b[0mfit_time\u001b[0m\u001b[1;33m\u001b[0m\u001b[1;33m\u001b[0m\u001b[0m\n",
      "\u001b[1;32m~\\anaconda3\\lib\\site-packages\\sklearn\\model_selection\\_validation.py\u001b[0m in \u001b[0;36m_score\u001b[1;34m(estimator, X_test, y_test, scorer, error_score)\u001b[0m\n\u001b[0;32m    760\u001b[0m         \u001b[1;32melse\u001b[0m\u001b[1;33m:\u001b[0m\u001b[1;33m\u001b[0m\u001b[1;33m\u001b[0m\u001b[0m\n\u001b[1;32m--> 761\u001b[1;33m             \u001b[0mscores\u001b[0m \u001b[1;33m=\u001b[0m \u001b[0mscorer\u001b[0m\u001b[1;33m(\u001b[0m\u001b[0mestimator\u001b[0m\u001b[1;33m,\u001b[0m \u001b[0mX_test\u001b[0m\u001b[1;33m,\u001b[0m \u001b[0my_test\u001b[0m\u001b[1;33m)\u001b[0m\u001b[1;33m\u001b[0m\u001b[1;33m\u001b[0m\u001b[0m\n\u001b[0m\u001b[0;32m    762\u001b[0m     \u001b[1;32mexcept\u001b[0m \u001b[0mException\u001b[0m\u001b[1;33m:\u001b[0m\u001b[1;33m\u001b[0m\u001b[1;33m\u001b[0m\u001b[0m\n",
      "\u001b[1;32m~\\anaconda3\\lib\\site-packages\\sklearn\\metrics\\_scorer.py\u001b[0m in \u001b[0;36m__call__\u001b[1;34m(self, estimator, *args, **kwargs)\u001b[0m\n\u001b[0;32m    102\u001b[0m             \u001b[1;32mif\u001b[0m \u001b[0misinstance\u001b[0m\u001b[1;33m(\u001b[0m\u001b[0mscorer\u001b[0m\u001b[1;33m,\u001b[0m \u001b[0m_BaseScorer\u001b[0m\u001b[1;33m)\u001b[0m\u001b[1;33m:\u001b[0m\u001b[1;33m\u001b[0m\u001b[1;33m\u001b[0m\u001b[0m\n\u001b[1;32m--> 103\u001b[1;33m                 \u001b[0mscore\u001b[0m \u001b[1;33m=\u001b[0m \u001b[0mscorer\u001b[0m\u001b[1;33m.\u001b[0m\u001b[0m_score\u001b[0m\u001b[1;33m(\u001b[0m\u001b[0mcached_call\u001b[0m\u001b[1;33m,\u001b[0m \u001b[0mestimator\u001b[0m\u001b[1;33m,\u001b[0m \u001b[1;33m*\u001b[0m\u001b[0margs\u001b[0m\u001b[1;33m,\u001b[0m \u001b[1;33m**\u001b[0m\u001b[0mkwargs\u001b[0m\u001b[1;33m)\u001b[0m\u001b[1;33m\u001b[0m\u001b[1;33m\u001b[0m\u001b[0m\n\u001b[0m\u001b[0;32m    104\u001b[0m             \u001b[1;32melse\u001b[0m\u001b[1;33m:\u001b[0m\u001b[1;33m\u001b[0m\u001b[1;33m\u001b[0m\u001b[0m\n",
      "\u001b[1;32m~\\anaconda3\\lib\\site-packages\\sklearn\\metrics\\_scorer.py\u001b[0m in \u001b[0;36m_score\u001b[1;34m(self, method_caller, estimator, X, y_true, sample_weight)\u001b[0m\n\u001b[0;32m    257\u001b[0m \u001b[1;33m\u001b[0m\u001b[0m\n\u001b[1;32m--> 258\u001b[1;33m         \u001b[0my_pred\u001b[0m \u001b[1;33m=\u001b[0m \u001b[0mmethod_caller\u001b[0m\u001b[1;33m(\u001b[0m\u001b[0mestimator\u001b[0m\u001b[1;33m,\u001b[0m \u001b[1;34m\"predict\"\u001b[0m\u001b[1;33m,\u001b[0m \u001b[0mX\u001b[0m\u001b[1;33m)\u001b[0m\u001b[1;33m\u001b[0m\u001b[1;33m\u001b[0m\u001b[0m\n\u001b[0m\u001b[0;32m    259\u001b[0m         \u001b[1;32mif\u001b[0m \u001b[0msample_weight\u001b[0m \u001b[1;32mis\u001b[0m \u001b[1;32mnot\u001b[0m \u001b[1;32mNone\u001b[0m\u001b[1;33m:\u001b[0m\u001b[1;33m\u001b[0m\u001b[1;33m\u001b[0m\u001b[0m\n",
      "\u001b[1;32m~\\anaconda3\\lib\\site-packages\\sklearn\\metrics\\_scorer.py\u001b[0m in \u001b[0;36m_cached_call\u001b[1;34m(cache, estimator, method, *args, **kwargs)\u001b[0m\n\u001b[0;32m     67\u001b[0m     \u001b[1;32mif\u001b[0m \u001b[0mcache\u001b[0m \u001b[1;32mis\u001b[0m \u001b[1;32mNone\u001b[0m\u001b[1;33m:\u001b[0m\u001b[1;33m\u001b[0m\u001b[1;33m\u001b[0m\u001b[0m\n\u001b[1;32m---> 68\u001b[1;33m         \u001b[1;32mreturn\u001b[0m \u001b[0mgetattr\u001b[0m\u001b[1;33m(\u001b[0m\u001b[0mestimator\u001b[0m\u001b[1;33m,\u001b[0m \u001b[0mmethod\u001b[0m\u001b[1;33m)\u001b[0m\u001b[1;33m(\u001b[0m\u001b[1;33m*\u001b[0m\u001b[0margs\u001b[0m\u001b[1;33m,\u001b[0m \u001b[1;33m**\u001b[0m\u001b[0mkwargs\u001b[0m\u001b[1;33m)\u001b[0m\u001b[1;33m\u001b[0m\u001b[1;33m\u001b[0m\u001b[0m\n\u001b[0m\u001b[0;32m     69\u001b[0m \u001b[1;33m\u001b[0m\u001b[0m\n",
      "\u001b[1;32m~\\anaconda3\\lib\\site-packages\\sklearn\\neighbors\\_classification.py\u001b[0m in \u001b[0;36mpredict\u001b[1;34m(self, X)\u001b[0m\n\u001b[0;32m    227\u001b[0m             \u001b[1;32mif\u001b[0m \u001b[0mweights\u001b[0m \u001b[1;32mis\u001b[0m \u001b[1;32mNone\u001b[0m\u001b[1;33m:\u001b[0m\u001b[1;33m\u001b[0m\u001b[1;33m\u001b[0m\u001b[0m\n\u001b[1;32m--> 228\u001b[1;33m                 \u001b[0mmode\u001b[0m\u001b[1;33m,\u001b[0m \u001b[0m_\u001b[0m \u001b[1;33m=\u001b[0m \u001b[0mstats\u001b[0m\u001b[1;33m.\u001b[0m\u001b[0mmode\u001b[0m\u001b[1;33m(\u001b[0m\u001b[0m_y\u001b[0m\u001b[1;33m[\u001b[0m\u001b[0mneigh_ind\u001b[0m\u001b[1;33m,\u001b[0m \u001b[0mk\u001b[0m\u001b[1;33m]\u001b[0m\u001b[1;33m,\u001b[0m \u001b[0maxis\u001b[0m\u001b[1;33m=\u001b[0m\u001b[1;36m1\u001b[0m\u001b[1;33m)\u001b[0m\u001b[1;33m\u001b[0m\u001b[1;33m\u001b[0m\u001b[0m\n\u001b[0m\u001b[0;32m    229\u001b[0m             \u001b[1;32melse\u001b[0m\u001b[1;33m:\u001b[0m\u001b[1;33m\u001b[0m\u001b[1;33m\u001b[0m\u001b[0m\n",
      "\u001b[1;32m~\\anaconda3\\lib\\site-packages\\scipy\\stats\\_stats_py.py\u001b[0m in \u001b[0;36mmode\u001b[1;34m(a, axis, nan_policy, keepdims)\u001b[0m\n\u001b[0;32m    674\u001b[0m     \u001b[1;32mfor\u001b[0m \u001b[0mind\u001b[0m \u001b[1;32min\u001b[0m \u001b[0minds\u001b[0m\u001b[1;33m:\u001b[0m\u001b[1;33m\u001b[0m\u001b[1;33m\u001b[0m\u001b[0m\n\u001b[1;32m--> 675\u001b[1;33m         \u001b[0mmodes\u001b[0m\u001b[1;33m[\u001b[0m\u001b[0mind\u001b[0m\u001b[1;33m]\u001b[0m\u001b[1;33m,\u001b[0m \u001b[0mcounts\u001b[0m\u001b[1;33m[\u001b[0m\u001b[0mind\u001b[0m\u001b[1;33m]\u001b[0m \u001b[1;33m=\u001b[0m \u001b[0m_mode1D\u001b[0m\u001b[1;33m(\u001b[0m\u001b[0ma_view\u001b[0m\u001b[1;33m[\u001b[0m\u001b[0mind\u001b[0m\u001b[1;33m]\u001b[0m\u001b[1;33m)\u001b[0m\u001b[1;33m\u001b[0m\u001b[1;33m\u001b[0m\u001b[0m\n\u001b[0m\u001b[0;32m    676\u001b[0m \u001b[1;33m\u001b[0m\u001b[0m\n",
      "\u001b[1;32m~\\anaconda3\\lib\\site-packages\\scipy\\stats\\_stats_py.py\u001b[0m in \u001b[0;36m_mode1D\u001b[1;34m(a)\u001b[0m\n\u001b[0;32m    661\u001b[0m         \u001b[1;32mdef\u001b[0m \u001b[0m_mode1D\u001b[0m\u001b[1;33m(\u001b[0m\u001b[0ma\u001b[0m\u001b[1;33m)\u001b[0m\u001b[1;33m:\u001b[0m\u001b[1;33m\u001b[0m\u001b[1;33m\u001b[0m\u001b[0m\n\u001b[1;32m--> 662\u001b[1;33m             \u001b[0mvals\u001b[0m\u001b[1;33m,\u001b[0m \u001b[0mcnts\u001b[0m \u001b[1;33m=\u001b[0m \u001b[0mnp\u001b[0m\u001b[1;33m.\u001b[0m\u001b[0munique\u001b[0m\u001b[1;33m(\u001b[0m\u001b[0ma\u001b[0m\u001b[1;33m,\u001b[0m \u001b[0mreturn_counts\u001b[0m\u001b[1;33m=\u001b[0m\u001b[1;32mTrue\u001b[0m\u001b[1;33m)\u001b[0m\u001b[1;33m\u001b[0m\u001b[1;33m\u001b[0m\u001b[0m\n\u001b[0m\u001b[0;32m    663\u001b[0m             \u001b[1;32mreturn\u001b[0m \u001b[0mvals\u001b[0m\u001b[1;33m[\u001b[0m\u001b[0mcnts\u001b[0m\u001b[1;33m.\u001b[0m\u001b[0margmax\u001b[0m\u001b[1;33m(\u001b[0m\u001b[1;33m)\u001b[0m\u001b[1;33m]\u001b[0m\u001b[1;33m,\u001b[0m \u001b[0mcnts\u001b[0m\u001b[1;33m.\u001b[0m\u001b[0mmax\u001b[0m\u001b[1;33m(\u001b[0m\u001b[1;33m)\u001b[0m\u001b[1;33m\u001b[0m\u001b[1;33m\u001b[0m\u001b[0m\n",
      "\u001b[1;32m<__array_function__ internals>\u001b[0m in \u001b[0;36munique\u001b[1;34m(*args, **kwargs)\u001b[0m\n",
      "\u001b[1;32m~\\anaconda3\\lib\\site-packages\\numpy\\lib\\arraysetops.py\u001b[0m in \u001b[0;36munique\u001b[1;34m(ar, return_index, return_inverse, return_counts, axis)\u001b[0m\n\u001b[0;32m    271\u001b[0m     \u001b[1;32mif\u001b[0m \u001b[0maxis\u001b[0m \u001b[1;32mis\u001b[0m \u001b[1;32mNone\u001b[0m\u001b[1;33m:\u001b[0m\u001b[1;33m\u001b[0m\u001b[1;33m\u001b[0m\u001b[0m\n\u001b[1;32m--> 272\u001b[1;33m         \u001b[0mret\u001b[0m \u001b[1;33m=\u001b[0m \u001b[0m_unique1d\u001b[0m\u001b[1;33m(\u001b[0m\u001b[0mar\u001b[0m\u001b[1;33m,\u001b[0m \u001b[0mreturn_index\u001b[0m\u001b[1;33m,\u001b[0m \u001b[0mreturn_inverse\u001b[0m\u001b[1;33m,\u001b[0m \u001b[0mreturn_counts\u001b[0m\u001b[1;33m)\u001b[0m\u001b[1;33m\u001b[0m\u001b[1;33m\u001b[0m\u001b[0m\n\u001b[0m\u001b[0;32m    273\u001b[0m         \u001b[1;32mreturn\u001b[0m \u001b[0m_unpack_tuple\u001b[0m\u001b[1;33m(\u001b[0m\u001b[0mret\u001b[0m\u001b[1;33m)\u001b[0m\u001b[1;33m\u001b[0m\u001b[1;33m\u001b[0m\u001b[0m\n",
      "\u001b[1;32m~\\anaconda3\\lib\\site-packages\\numpy\\lib\\arraysetops.py\u001b[0m in \u001b[0;36m_unique1d\u001b[1;34m(ar, return_index, return_inverse, return_counts)\u001b[0m\n\u001b[0;32m    332\u001b[0m     \u001b[1;32melse\u001b[0m\u001b[1;33m:\u001b[0m\u001b[1;33m\u001b[0m\u001b[1;33m\u001b[0m\u001b[0m\n\u001b[1;32m--> 333\u001b[1;33m         \u001b[0mar\u001b[0m\u001b[1;33m.\u001b[0m\u001b[0msort\u001b[0m\u001b[1;33m(\u001b[0m\u001b[1;33m)\u001b[0m\u001b[1;33m\u001b[0m\u001b[1;33m\u001b[0m\u001b[0m\n\u001b[0m\u001b[0;32m    334\u001b[0m         \u001b[0maux\u001b[0m \u001b[1;33m=\u001b[0m \u001b[0mar\u001b[0m\u001b[1;33m\u001b[0m\u001b[1;33m\u001b[0m\u001b[0m\n",
      "\u001b[1;31mKeyboardInterrupt\u001b[0m: ",
      "\nDuring handling of the above exception, another exception occurred:\n",
      "\u001b[1;31mAttributeError\u001b[0m                            Traceback (most recent call last)",
      "\u001b[1;32m~\\anaconda3\\lib\\site-packages\\IPython\\core\\interactiveshell.py\u001b[0m in \u001b[0;36mshowtraceback\u001b[1;34m(self, exc_tuple, filename, tb_offset, exception_only, running_compiled_code)\u001b[0m\n\u001b[0;32m   2076\u001b[0m                         \u001b[1;31m# in the engines. This should return a list of strings.\u001b[0m\u001b[1;33m\u001b[0m\u001b[1;33m\u001b[0m\u001b[0m\n\u001b[1;32m-> 2077\u001b[1;33m                         \u001b[0mstb\u001b[0m \u001b[1;33m=\u001b[0m \u001b[0mvalue\u001b[0m\u001b[1;33m.\u001b[0m\u001b[0m_render_traceback_\u001b[0m\u001b[1;33m(\u001b[0m\u001b[1;33m)\u001b[0m\u001b[1;33m\u001b[0m\u001b[1;33m\u001b[0m\u001b[0m\n\u001b[0m\u001b[0;32m   2078\u001b[0m                     \u001b[1;32mexcept\u001b[0m \u001b[0mException\u001b[0m\u001b[1;33m:\u001b[0m\u001b[1;33m\u001b[0m\u001b[1;33m\u001b[0m\u001b[0m\n",
      "\u001b[1;31mAttributeError\u001b[0m: 'KeyboardInterrupt' object has no attribute '_render_traceback_'",
      "\nDuring handling of the above exception, another exception occurred:\n",
      "\u001b[1;31mTypeError\u001b[0m                                 Traceback (most recent call last)",
      "    \u001b[1;31m[... skipping hidden 1 frame]\u001b[0m\n",
      "\u001b[1;32m~\\anaconda3\\lib\\site-packages\\IPython\\core\\interactiveshell.py\u001b[0m in \u001b[0;36mshowtraceback\u001b[1;34m(self, exc_tuple, filename, tb_offset, exception_only, running_compiled_code)\u001b[0m\n\u001b[0;32m   2077\u001b[0m                         \u001b[0mstb\u001b[0m \u001b[1;33m=\u001b[0m \u001b[0mvalue\u001b[0m\u001b[1;33m.\u001b[0m\u001b[0m_render_traceback_\u001b[0m\u001b[1;33m(\u001b[0m\u001b[1;33m)\u001b[0m\u001b[1;33m\u001b[0m\u001b[1;33m\u001b[0m\u001b[0m\n\u001b[0;32m   2078\u001b[0m                     \u001b[1;32mexcept\u001b[0m \u001b[0mException\u001b[0m\u001b[1;33m:\u001b[0m\u001b[1;33m\u001b[0m\u001b[1;33m\u001b[0m\u001b[0m\n\u001b[1;32m-> 2079\u001b[1;33m                         stb = self.InteractiveTB.structured_traceback(etype,\n\u001b[0m\u001b[0;32m   2080\u001b[0m                                             value, tb, tb_offset=tb_offset)\n\u001b[0;32m   2081\u001b[0m \u001b[1;33m\u001b[0m\u001b[0m\n",
      "\u001b[1;32m~\\anaconda3\\lib\\site-packages\\IPython\\core\\ultratb.py\u001b[0m in \u001b[0;36mstructured_traceback\u001b[1;34m(self, etype, value, tb, tb_offset, number_of_lines_of_context)\u001b[0m\n\u001b[0;32m   1365\u001b[0m         \u001b[1;32melse\u001b[0m\u001b[1;33m:\u001b[0m\u001b[1;33m\u001b[0m\u001b[1;33m\u001b[0m\u001b[0m\n\u001b[0;32m   1366\u001b[0m             \u001b[0mself\u001b[0m\u001b[1;33m.\u001b[0m\u001b[0mtb\u001b[0m \u001b[1;33m=\u001b[0m \u001b[0mtb\u001b[0m\u001b[1;33m\u001b[0m\u001b[1;33m\u001b[0m\u001b[0m\n\u001b[1;32m-> 1367\u001b[1;33m         return FormattedTB.structured_traceback(\n\u001b[0m\u001b[0;32m   1368\u001b[0m             self, etype, value, tb, tb_offset, number_of_lines_of_context)\n\u001b[0;32m   1369\u001b[0m \u001b[1;33m\u001b[0m\u001b[0m\n",
      "\u001b[1;32m~\\anaconda3\\lib\\site-packages\\IPython\\core\\ultratb.py\u001b[0m in \u001b[0;36mstructured_traceback\u001b[1;34m(self, etype, value, tb, tb_offset, number_of_lines_of_context)\u001b[0m\n\u001b[0;32m   1265\u001b[0m         \u001b[1;32mif\u001b[0m \u001b[0mmode\u001b[0m \u001b[1;32min\u001b[0m \u001b[0mself\u001b[0m\u001b[1;33m.\u001b[0m\u001b[0mverbose_modes\u001b[0m\u001b[1;33m:\u001b[0m\u001b[1;33m\u001b[0m\u001b[1;33m\u001b[0m\u001b[0m\n\u001b[0;32m   1266\u001b[0m             \u001b[1;31m# Verbose modes need a full traceback\u001b[0m\u001b[1;33m\u001b[0m\u001b[1;33m\u001b[0m\u001b[0m\n\u001b[1;32m-> 1267\u001b[1;33m             return VerboseTB.structured_traceback(\n\u001b[0m\u001b[0;32m   1268\u001b[0m                 \u001b[0mself\u001b[0m\u001b[1;33m,\u001b[0m \u001b[0metype\u001b[0m\u001b[1;33m,\u001b[0m \u001b[0mvalue\u001b[0m\u001b[1;33m,\u001b[0m \u001b[0mtb\u001b[0m\u001b[1;33m,\u001b[0m \u001b[0mtb_offset\u001b[0m\u001b[1;33m,\u001b[0m \u001b[0mnumber_of_lines_of_context\u001b[0m\u001b[1;33m\u001b[0m\u001b[1;33m\u001b[0m\u001b[0m\n\u001b[0;32m   1269\u001b[0m             )\n",
      "\u001b[1;32m~\\anaconda3\\lib\\site-packages\\IPython\\core\\ultratb.py\u001b[0m in \u001b[0;36mstructured_traceback\u001b[1;34m(self, etype, evalue, etb, tb_offset, number_of_lines_of_context)\u001b[0m\n\u001b[0;32m   1122\u001b[0m         \u001b[1;34m\"\"\"Return a nice text document describing the traceback.\"\"\"\u001b[0m\u001b[1;33m\u001b[0m\u001b[1;33m\u001b[0m\u001b[0m\n\u001b[0;32m   1123\u001b[0m \u001b[1;33m\u001b[0m\u001b[0m\n\u001b[1;32m-> 1124\u001b[1;33m         formatted_exception = self.format_exception_as_a_whole(etype, evalue, etb, number_of_lines_of_context,\n\u001b[0m\u001b[0;32m   1125\u001b[0m                                                                tb_offset)\n\u001b[0;32m   1126\u001b[0m \u001b[1;33m\u001b[0m\u001b[0m\n",
      "\u001b[1;32m~\\anaconda3\\lib\\site-packages\\IPython\\core\\ultratb.py\u001b[0m in \u001b[0;36mformat_exception_as_a_whole\u001b[1;34m(self, etype, evalue, etb, number_of_lines_of_context, tb_offset)\u001b[0m\n\u001b[0;32m   1080\u001b[0m \u001b[1;33m\u001b[0m\u001b[0m\n\u001b[0;32m   1081\u001b[0m \u001b[1;33m\u001b[0m\u001b[0m\n\u001b[1;32m-> 1082\u001b[1;33m         \u001b[0mlast_unique\u001b[0m\u001b[1;33m,\u001b[0m \u001b[0mrecursion_repeat\u001b[0m \u001b[1;33m=\u001b[0m \u001b[0mfind_recursion\u001b[0m\u001b[1;33m(\u001b[0m\u001b[0morig_etype\u001b[0m\u001b[1;33m,\u001b[0m \u001b[0mevalue\u001b[0m\u001b[1;33m,\u001b[0m \u001b[0mrecords\u001b[0m\u001b[1;33m)\u001b[0m\u001b[1;33m\u001b[0m\u001b[1;33m\u001b[0m\u001b[0m\n\u001b[0m\u001b[0;32m   1083\u001b[0m \u001b[1;33m\u001b[0m\u001b[0m\n\u001b[0;32m   1084\u001b[0m         \u001b[0mframes\u001b[0m \u001b[1;33m=\u001b[0m \u001b[0mself\u001b[0m\u001b[1;33m.\u001b[0m\u001b[0mformat_records\u001b[0m\u001b[1;33m(\u001b[0m\u001b[0mrecords\u001b[0m\u001b[1;33m,\u001b[0m \u001b[0mlast_unique\u001b[0m\u001b[1;33m,\u001b[0m \u001b[0mrecursion_repeat\u001b[0m\u001b[1;33m)\u001b[0m\u001b[1;33m\u001b[0m\u001b[1;33m\u001b[0m\u001b[0m\n",
      "\u001b[1;32m~\\anaconda3\\lib\\site-packages\\IPython\\core\\ultratb.py\u001b[0m in \u001b[0;36mfind_recursion\u001b[1;34m(etype, value, records)\u001b[0m\n\u001b[0;32m    380\u001b[0m     \u001b[1;31m# first frame (from in to out) that looks different.\u001b[0m\u001b[1;33m\u001b[0m\u001b[1;33m\u001b[0m\u001b[0m\n\u001b[0;32m    381\u001b[0m     \u001b[1;32mif\u001b[0m \u001b[1;32mnot\u001b[0m \u001b[0mis_recursion_error\u001b[0m\u001b[1;33m(\u001b[0m\u001b[0metype\u001b[0m\u001b[1;33m,\u001b[0m \u001b[0mvalue\u001b[0m\u001b[1;33m,\u001b[0m \u001b[0mrecords\u001b[0m\u001b[1;33m)\u001b[0m\u001b[1;33m:\u001b[0m\u001b[1;33m\u001b[0m\u001b[1;33m\u001b[0m\u001b[0m\n\u001b[1;32m--> 382\u001b[1;33m         \u001b[1;32mreturn\u001b[0m \u001b[0mlen\u001b[0m\u001b[1;33m(\u001b[0m\u001b[0mrecords\u001b[0m\u001b[1;33m)\u001b[0m\u001b[1;33m,\u001b[0m \u001b[1;36m0\u001b[0m\u001b[1;33m\u001b[0m\u001b[1;33m\u001b[0m\u001b[0m\n\u001b[0m\u001b[0;32m    383\u001b[0m \u001b[1;33m\u001b[0m\u001b[0m\n\u001b[0;32m    384\u001b[0m     \u001b[1;31m# Select filename, lineno, func_name to track frames with\u001b[0m\u001b[1;33m\u001b[0m\u001b[1;33m\u001b[0m\u001b[0m\n",
      "\u001b[1;31mTypeError\u001b[0m: object of type 'NoneType' has no len()"
     ]
    }
   ],
   "source": [
    "# Calculating Recall\n",
    "cv_recall = cross_val_score(clf,\n",
    "                              X,\n",
    "                              y,\n",
    "                              cv=5, \n",
    "                              scoring=\"recall\")\n",
    "cv_recall"
   ]
  },
  {
   "cell_type": "code",
   "execution_count": null,
   "id": "9499762e",
   "metadata": {},
   "outputs": [],
   "source": [
    "cv_rec = np.mean(cv_recall)\n",
    "cv_rec"
   ]
  },
  {
   "cell_type": "code",
   "execution_count": null,
   "id": "e0a5e4b4",
   "metadata": {},
   "outputs": [],
   "source": [
    "# Calculating F1-Score\n",
    "cv_f1_score = cross_val_score(clf,\n",
    "                              X,\n",
    "                              y,\n",
    "                              cv=5, \n",
    "                              scoring=\"f1\")\n",
    "cv_f1_score"
   ]
  },
  {
   "cell_type": "code",
   "execution_count": null,
   "id": "731340e9",
   "metadata": {},
   "outputs": [],
   "source": [
    "cv_f1 = np.mean(cv_f1_score)\n",
    "cv_f1"
   ]
  },
  {
   "cell_type": "code",
   "execution_count": null,
   "id": "e010c047",
   "metadata": {},
   "outputs": [],
   "source": [
    "# Visualizing cross-validated metrics\n",
    "cv_metrics = pd.DataFrame({\"Accuracy\" : knn_cv_acc,\n",
    "                           \"Precision\" : cv_pre,\n",
    "                           \"recall\" : cv_rec,\n",
    "                           \"F1-Score\" : cv_f1},\n",
    "                        index=[0])\n",
    "cv_metrics.T.plot.bar(title = \" classification metrics\",\n",
    "                      legend = False);"
   ]
  },
  {
   "cell_type": "code",
   "execution_count": null,
   "id": "80a8807d",
   "metadata": {},
   "outputs": [],
   "source": [
    "# setting up random.seed() method to help reproduce our results\n",
    "np.random.seed(26)\n",
    "\n",
    "# Classification using Gaussian Naive's Bayes\n",
    "clf =  GaussianNB()\n",
    "\n",
    "# Calculating Accuracy\n",
    "cv_accuracy = cross_val_score(clf, X, y, cv=5, scoring=\"accuracy\")\n",
    "cv_accuracy"
   ]
  },
  {
   "cell_type": "code",
   "execution_count": null,
   "id": "74a5e632",
   "metadata": {},
   "outputs": [],
   "source": [
    "nb_cv_acc = np.mean(cv_accuracy)\n",
    "nb_cv_acc"
   ]
  },
  {
   "cell_type": "code",
   "execution_count": null,
   "id": "1929fef1",
   "metadata": {},
   "outputs": [],
   "source": [
    "# Calculating Precision\n",
    "cv_precision = cross_val_score(clf,\n",
    "                              X,\n",
    "                              y,\n",
    "                              cv=5, \n",
    "                              scoring=\"precision\")\n",
    "cv_precision"
   ]
  },
  {
   "cell_type": "code",
   "execution_count": null,
   "id": "ba74b1d8",
   "metadata": {},
   "outputs": [],
   "source": [
    "cv_pre = np.mean(cv_precision)\n",
    "cv_pre"
   ]
  },
  {
   "cell_type": "code",
   "execution_count": null,
   "id": "7c83b8d7",
   "metadata": {},
   "outputs": [],
   "source": [
    "# Calculating Recall\n",
    "cv_recall = cross_val_score(clf,\n",
    "                              X,\n",
    "                              y,\n",
    "                              cv=5, \n",
    "                              scoring=\"recall\")\n",
    "cv_recall"
   ]
  },
  {
   "cell_type": "code",
   "execution_count": null,
   "id": "4c31bd46",
   "metadata": {},
   "outputs": [],
   "source": [
    "cv_rec = np.mean(cv_recall)\n",
    "cv_rec"
   ]
  },
  {
   "cell_type": "code",
   "execution_count": null,
   "id": "c2ef9339",
   "metadata": {},
   "outputs": [],
   "source": [
    "# Calculating F1-Score\n",
    "cv_f1_score = cross_val_score(clf,\n",
    "                              X,\n",
    "                              y,\n",
    "                              cv=5, \n",
    "                              scoring=\"f1\")\n",
    "cv_f1_score"
   ]
  },
  {
   "cell_type": "code",
   "execution_count": null,
   "id": "2af3a486",
   "metadata": {},
   "outputs": [],
   "source": [
    "cv_f1 = np.mean(cv_f1_score)\n",
    "cv_f1"
   ]
  },
  {
   "cell_type": "code",
   "execution_count": null,
   "id": "4140ea02",
   "metadata": {},
   "outputs": [],
   "source": [
    "# Visualizing cross-validated metrics\n",
    "cv_metrics = pd.DataFrame({\"Accuracy\" : nb_cv_acc,\n",
    "                           \"Precision\" : cv_pre,\n",
    "                           \"recall\" : cv_rec,\n",
    "                           \"F1-Score\" : cv_f1},\n",
    "                        index=[0])\n",
    "cv_metrics.T.plot.bar(title = \" classification metrics\",\n",
    "                      legend = False);"
   ]
  },
  {
   "cell_type": "code",
   "execution_count": 67,
   "id": "04d2896b",
   "metadata": {},
   "outputs": [
    {
     "data": {
      "text/plain": [
       "array([0.79743, 0.99595, 1.     , 1.     , 1.     ])"
      ]
     },
     "execution_count": 67,
     "metadata": {},
     "output_type": "execute_result"
    }
   ],
   "source": [
    "# setting up random.seed() method to help reproduce our results\n",
    "np.random.seed(26)\n",
    "\n",
    "# Classification using Random Forest Classifier\n",
    "clf =  RandomForestClassifier()\n",
    "\n",
    "# Calculating Accuracy\n",
    "cv_accuracy = cross_val_score(clf, X, y, cv=5, scoring=\"accuracy\")\n",
    "cv_accuracy"
   ]
  },
  {
   "cell_type": "code",
   "execution_count": 68,
   "id": "bbb202d0",
   "metadata": {},
   "outputs": [
    {
     "data": {
      "text/plain": [
       "0.958676"
      ]
     },
     "execution_count": 68,
     "metadata": {},
     "output_type": "execute_result"
    }
   ],
   "source": [
    "rf_cv_acc = np.mean(cv_accuracy)\n",
    "rf_cv_acc"
   ]
  },
  {
   "cell_type": "code",
   "execution_count": null,
   "id": "e5fb50d3",
   "metadata": {},
   "outputs": [],
   "source": [
    "# Calculating Precision\n",
    "cv_precision = cross_val_score(clf,\n",
    "                              X,\n",
    "                              y,\n",
    "                              cv=5, \n",
    "                              scoring=\"precision\")\n",
    "cv_precision"
   ]
  },
  {
   "cell_type": "code",
   "execution_count": null,
   "id": "8abe1d2b",
   "metadata": {},
   "outputs": [],
   "source": [
    "cv_pre = np.mean(cv_precision)\n",
    "cv_pre"
   ]
  },
  {
   "cell_type": "code",
   "execution_count": null,
   "id": "10685587",
   "metadata": {},
   "outputs": [],
   "source": [
    "# Calculating Recall\n",
    "cv_recall = cross_val_score(clf,\n",
    "                              X,\n",
    "                              y,\n",
    "                              cv=5, \n",
    "                              scoring=\"recall\")\n",
    "cv_recall"
   ]
  },
  {
   "cell_type": "code",
   "execution_count": null,
   "id": "fa82ad87",
   "metadata": {},
   "outputs": [],
   "source": [
    "cv_rec = np.mean(cv_recall)\n",
    "cv_rec"
   ]
  },
  {
   "cell_type": "code",
   "execution_count": null,
   "id": "a5ae508b",
   "metadata": {},
   "outputs": [],
   "source": [
    "# Calculating F1-Score\n",
    "cv_f1_score = cross_val_score(clf,\n",
    "                              X,\n",
    "                              y,\n",
    "                              cv=5, \n",
    "                              scoring=\"f1\")\n",
    "cv_f1_score"
   ]
  },
  {
   "cell_type": "code",
   "execution_count": null,
   "id": "d49d6f19",
   "metadata": {},
   "outputs": [],
   "source": [
    "cv_f1 = np.mean(cv_f1_score)\n",
    "cv_f1"
   ]
  },
  {
   "cell_type": "code",
   "execution_count": null,
   "id": "30b31f42",
   "metadata": {},
   "outputs": [],
   "source": [
    "# Visualizing cross-validated metrics\n",
    "cv_metrics = pd.DataFrame({\"Accuracy\" : rf_cv_acc,\n",
    "                           \"Precision\" : cv_pre,\n",
    "                           \"recall\" : cv_rec,\n",
    "                           \"F1-Score\" : cv_f1},\n",
    "                        index=[0])\n",
    "cv_metrics.T.plot.bar(title = \" classification metrics\",\n",
    "                      legend = False);"
   ]
  },
  {
   "cell_type": "code",
   "execution_count": null,
   "id": "3ab42035",
   "metadata": {},
   "outputs": [],
   "source": [
    "compare_metrics = pd.DataFrame({\"Decision Tree Classifier\" : dt_cv_acc,\n",
    "                           \"Logistic Regression\" : lr_cv_acc,\n",
    "                           \"K-Nearest Neighbours Classifier\" : knn_cv_acc,\n",
    "                           \"Gaussian Naive Bayes\" : nb_cv_acc,\n",
    "                           \"Random Forest Classifier\": rf_cv_acc\n",
    "                            },\n",
    "                        index=[0])\n",
    "compare_metrics.T.plot.bar(title = \" comparision of models accuracy\",\n",
    "                      legend = False);"
   ]
  },
  {
   "cell_type": "code",
   "execution_count": null,
   "id": "ff75dca2",
   "metadata": {},
   "outputs": [],
   "source": []
  },
  {
   "cell_type": "code",
   "execution_count": null,
   "id": "3f51220e",
   "metadata": {},
   "outputs": [],
   "source": []
  },
  {
   "cell_type": "code",
   "execution_count": null,
   "id": "b5948766",
   "metadata": {},
   "outputs": [],
   "source": []
  }
 ],
 "metadata": {
  "kernelspec": {
   "display_name": "Python 3 (ipykernel)",
   "language": "python",
   "name": "python3"
  },
  "language_info": {
   "codemirror_mode": {
    "name": "ipython",
    "version": 3
   },
   "file_extension": ".py",
   "mimetype": "text/x-python",
   "name": "python",
   "nbconvert_exporter": "python",
   "pygments_lexer": "ipython3",
   "version": "3.9.13"
  }
 },
 "nbformat": 4,
 "nbformat_minor": 5
}
